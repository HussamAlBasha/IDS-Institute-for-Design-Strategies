{
 "cells": [
  {
   "attachments": {},
   "cell_type": "markdown",
   "metadata": {},
   "source": [
    "# <h1 style=\"color:#AED6F1 ; font-weight: bold; font-style: italic;\">Getting Started</h1>"
   ]
  },
  {
   "attachments": {},
   "cell_type": "markdown",
   "metadata": {},
   "source": [
    "The basis of all of our analysis starts with the binaural signal, so we begin by importing the `Binaural` class. We'll also load up and examine our analysis settings."
   ]
  },
  {
   "cell_type": "code",
   "execution_count": 2,
   "metadata": {},
   "outputs": [],
   "source": [
    "# imports\n",
    "import json\n",
    "from pathlib import Path\n",
    "#\n",
    "#\n",
    "\n",
    "from soundscapy import Binaural\n",
    "from soundscapy import AnalysisSettings\n",
    "from soundscapy.analysis.binaural import prep_multiindex_df, add_results, process_all_metrics\n"
   ]
  },
  {
   "attachments": {},
   "cell_type": "markdown",
   "metadata": {},
   "source": [
    "Set up where the data is located. In this case, we'll use the sample recordings located under the `data` folder."
   ]
  },
  {
   "cell_type": "code",
   "execution_count": 3,
   "metadata": {},
   "outputs": [],
   "source": [
    "# May need to adjust for your system\n",
    "wav_folder = Path().cwd().joinpath(\"data\")"
   ]
  },
  {
   "attachments": {},
   "cell_type": "markdown",
   "metadata": {},
   "source": [
    "Ensuring that Soundscapy knows exactly how loud your recordings were onsite is crucial to getting correct answers. If you used equipment such as the Head Acoustics SqoBold, and were careful about how the recordings are exported to .wav, then they may already be correctly adjusted (as ours are here). However its best to be safe and calibrate each signal to their real-world dB level. To do this, we load in a .json that contains the per-channel correct dB $L_{eq}$ level."
   ]
  },
  {
   "cell_type": "code",
   "execution_count": 24,
   "metadata": {},
   "outputs": [
    {
     "data": {
      "text/plain": [
       "[('CT101', {'Left': 79.0, 'Right': 79.72}),\n",
       " ('CT102', {'Left': 79.35, 'Right': 79.88}),\n",
       " ('CT103', {'Left': 76.25, 'Right': 76.41}),\n",
       " ('CT104', {'Left': 79.9, 'Right': 79.93}),\n",
       " ('CT107', {'Left': 78.21, 'Right': 78.47})]"
      ]
     },
     "execution_count": 24,
     "metadata": {},
     "output_type": "execute_result"
    }
   ],
   "source": [
    "levels = wav_folder.joinpath(\"Levels.json\")\n",
    "\n",
    "with open(\"data/Levels.json\") as f:\n",
    "    levels= json.load(f)\n",
    "\n",
    "# Look at the first five sets of levels\n",
    "list(levels.items())[:5]\n",
    "#or\n",
    "#list(levels.items())"
   ]
  },
  {
   "attachments": {},
   "cell_type": "markdown",
   "metadata": {},
   "source": [
    "# <h1 style=\"color:#AED6F1 ; font-weight: bold; font-style: italic;\">Prepping the Results Dataframe</h1>"
   ]
  },
  {
   "attachments": {},
   "cell_type": "markdown",
   "metadata": {},
   "source": [
    "The easiest way to organise and add the new data as it is processed is to prepare a dataframe ahead of time. We've provided a small function to convert a dictionary of calibration levels (`level`) into the properly formatted dataframe."
   ]
  },
  {
   "cell_type": "code",
   "execution_count": 25,
   "metadata": {},
   "outputs": [
    {
     "data": {
      "text/html": [
       "<div>\n",
       "<style scoped>\n",
       "    .dataframe tbody tr th:only-of-type {\n",
       "        vertical-align: middle;\n",
       "    }\n",
       "\n",
       "    .dataframe tbody tr th {\n",
       "        vertical-align: top;\n",
       "    }\n",
       "\n",
       "    .dataframe thead th {\n",
       "        text-align: right;\n",
       "    }\n",
       "</style>\n",
       "<table border=\"1\" class=\"dataframe\">\n",
       "  <thead>\n",
       "    <tr style=\"text-align: right;\">\n",
       "      <th></th>\n",
       "      <th></th>\n",
       "      <th>Leq</th>\n",
       "    </tr>\n",
       "    <tr>\n",
       "      <th>Recording</th>\n",
       "      <th>Channel</th>\n",
       "      <th></th>\n",
       "    </tr>\n",
       "  </thead>\n",
       "  <tbody>\n",
       "    <tr>\n",
       "      <th rowspan=\"2\" valign=\"top\">CT101</th>\n",
       "      <th>Left</th>\n",
       "      <td>79.00</td>\n",
       "    </tr>\n",
       "    <tr>\n",
       "      <th>Right</th>\n",
       "      <td>79.72</td>\n",
       "    </tr>\n",
       "    <tr>\n",
       "      <th rowspan=\"2\" valign=\"top\">CT102</th>\n",
       "      <th>Left</th>\n",
       "      <td>79.35</td>\n",
       "    </tr>\n",
       "    <tr>\n",
       "      <th>Right</th>\n",
       "      <td>79.88</td>\n",
       "    </tr>\n",
       "    <tr>\n",
       "      <th>CT103</th>\n",
       "      <th>Left</th>\n",
       "      <td>76.25</td>\n",
       "    </tr>\n",
       "  </tbody>\n",
       "</table>\n",
       "</div>"
      ],
      "text/plain": [
       "                     Leq\n",
       "Recording Channel       \n",
       "CT101     Left     79.00\n",
       "          Right    79.72\n",
       "CT102     Left     79.35\n",
       "          Right    79.88\n",
       "CT103     Left     76.25"
      ]
     },
     "execution_count": 25,
     "metadata": {},
     "output_type": "execute_result"
    }
   ],
   "source": [
    "df = prep_multiindex_df(levels, incl_metric=True)\n",
    "df.head()"
   ]
  },
  {
   "attachments": {},
   "cell_type": "markdown",
   "metadata": {},
   "source": [
    "# <h1 style=\"color:#AED6F1 ; font-weight: bold; font-style: italic;\">Load in a Binaural Recording</h1>"
   ]
  },
  {
   "attachments": {},
   "cell_type": "markdown",
   "metadata": {},
   "source": [
    "Load in a binaural wav signal. We can use the `plot` function provided by the `acoustics.Signal` super-class."
   ]
  },
  {
   "cell_type": "code",
   "execution_count": 27,
   "metadata": {},
   "outputs": [
    {
     "data": {
      "image/png": "[encoded data removed]",
      "text/plain": [
       "<Figure size 640x480 with 1 Axes>"
      ]
     },
     "metadata": {},
     "output_type": "display_data"
    }
   ],
   "source": [
    "binaural_wav = wav_folder.joinpath(\"CT107.wav\") #we can load and Binaural Recording \n",
    "b = Binaural.from_wav(binaural_wav)\n",
    "b.plot();"
   ]
  },
  {
   "attachments": {},
   "cell_type": "markdown",
   "metadata": {},
   "source": [
    "To ensure that the dB level is correct, and therefore any other metrics are correct, we start by calibrating the signal to precalculated levels."
   ]
  },
  {
   "cell_type": "code",
   "execution_count": 28,
   "metadata": {},
   "outputs": [
    {
     "name": "stdout",
     "output_type": "stream",
     "text": [
      "Calibration levels: (78.21, 78.47)\n"
     ]
    },
    {
     "data": {
      "text/plain": [
       "Signal([[ 0.25029334  0.24416909  0.23869655 ... -0.04915015 -0.05414756\n",
       "  -0.05422246]\n",
       " [ 0.196869    0.1967845   0.19533505 ... -0.07049724 -0.0626168\n",
       "  -0.0548369 ]])"
      ]
     },
     "execution_count": 28,
     "metadata": {},
     "output_type": "execute_result"
    }
   ],
   "source": [
    "decibel = (levels[b.recording][\"Left\"], levels[b.recording][\"Right\"])\n",
    "print(f\"Calibration levels: {decibel}\")\n",
    "b.calibrate_to(decibel, inplace=True)"
   ]
  },
  {
   "attachments": {},
   "cell_type": "markdown",
   "metadata": {},
   "source": [
    "Now, check it by comparing it to what we already knew were the correct levels:"
   ]
  },
  {
   "cell_type": "code",
   "execution_count": 29,
   "metadata": {},
   "outputs": [
    {
     "name": "stdout",
     "output_type": "stream",
     "text": [
      "Predefined levels: {'Left': 78.21, 'Right': 78.47}\n",
      "Calculated Levels: {'Left': {'Leq': 78.2157873380417}, 'Right': {'Leq': 78.47550130484643}}\n"
     ]
    }
   ],
   "source": [
    "print(f\"Predefined levels: {levels[b.recording]}\")\n",
    "print(f\"Calculated Levels: {b.pyacoustics_metric('Leq', statistics=['avg'], as_df=False)}\")"
   ]
  },
  {
   "attachments": {},
   "cell_type": "markdown",
   "metadata": {},
   "source": [
    "# <h1 style=\"color:#AED6F1 ; font-weight: bold; font-style: italic;\">Calculating Acoustic Metrics</h1>"
   ]
  },
  {
   "attachments": {},
   "cell_type": "markdown",
   "metadata": {},
   "source": [
    "This brings us to how to calculate any of the many metrics available(Python Acoustics, scikit-maad, MoSQITo)."
   ]
  },
  {
   "attachments": {},
   "cell_type": "markdown",
   "metadata": {},
   "source": [
    "<h2 style=\"color:#FFA500 ; font-weight: bold; font-style: italic;\">1) Python Acoustics</h2>\n",
    "\n",
    "$L_{Aeq}$, $L_{Ceq}$, $L_{Zeq}$, SEL, and all associated statistics ($L_5$ through $L_{95}$, $L_{max}$ and $L_{min}$, as well as [kurtosis](https://acousticstoday.org/wp-content/uploads/2020/12/Kurtosis-A-New-Tool-for-Noise-Analysis-Wei-Qiu-William-J.-Murphy-and-Alice-Suter.pdf) and skewness can be calculated.\n",
    "\n",
    "Since the $L_{Aeq}$ calc is provided by the Python Acoustics library, we'll be calling `pyacoustic_metric`. Then, we need to tell it what particular metric we want, what stats to calculate as well, what to label it, and what format to return the results in."
   ]
  },
  {
   "cell_type": "code",
   "execution_count": 66,
   "metadata": {},
   "outputs": [
    {
     "data": {
      "text/plain": [
       "{'Left': {'LAeq_5': 72.24842002576351,\n",
       "  'LAeq_10': 71.39503693700188,\n",
       "  'LAeq_50': 66.19903970844183,\n",
       "  'LAeq_90': 62.448782241986784,\n",
       "  'LAeq_95': 61.53306718159582,\n",
       "  'LAeq_min': 60.039913138589725,\n",
       "  'LAeq_max': 76.17793870253844,\n",
       "  'LAeq_kurt': -0.5353112063021412,\n",
       "  'LAeq_skew': 0.38680341837577864},\n",
       " 'Right': {'LAeq_5': 71.15432853551225,\n",
       "  'LAeq_10': 69.52077796094561,\n",
       "  'LAeq_50': 65.56753038363209,\n",
       "  'LAeq_90': 62.73709662215419,\n",
       "  'LAeq_95': 62.105324507324426,\n",
       "  'LAeq_min': 59.427035007231204,\n",
       "  'LAeq_max': 73.69993148345495,\n",
       "  'LAeq_kurt': -0.2291520124218982,\n",
       "  'LAeq_skew': 0.4907341505025647}}"
      ]
     },
     "execution_count": 66,
     "metadata": {},
     "output_type": "execute_result"
    }
   ],
   "source": [
    "metric = \"LAeq\"\n",
    "stats = (5, 10, 50, 90, 95, 'min', 'max', 'kurt', 'skew')\n",
    "label = \"LAeq\"\n",
    "b.pyacoustics_metric(metric, stats, label, as_df=False)"
   ]
  },
  {
   "attachments": {},
   "cell_type": "markdown",
   "metadata": {},
   "source": [
    "If we want, we can get the results back as a pandas DataFrame instead:"
   ]
  },
  {
   "cell_type": "code",
   "execution_count": 67,
   "metadata": {},
   "outputs": [
    {
     "data": {
      "text/html": [
       "<div>\n",
       "<style scoped>\n",
       "    .dataframe tbody tr th:only-of-type {\n",
       "        vertical-align: middle;\n",
       "    }\n",
       "\n",
       "    .dataframe tbody tr th {\n",
       "        vertical-align: top;\n",
       "    }\n",
       "\n",
       "    .dataframe thead th {\n",
       "        text-align: right;\n",
       "    }\n",
       "</style>\n",
       "<table border=\"1\" class=\"dataframe\">\n",
       "  <thead>\n",
       "    <tr style=\"text-align: right;\">\n",
       "      <th></th>\n",
       "      <th></th>\n",
       "      <th>LAeq_5</th>\n",
       "      <th>LAeq_10</th>\n",
       "      <th>LAeq_50</th>\n",
       "      <th>LAeq_90</th>\n",
       "      <th>LAeq_95</th>\n",
       "      <th>LAeq_min</th>\n",
       "      <th>LAeq_max</th>\n",
       "      <th>LAeq_kurt</th>\n",
       "      <th>LAeq_skew</th>\n",
       "    </tr>\n",
       "    <tr>\n",
       "      <th>Recording</th>\n",
       "      <th>Channel</th>\n",
       "      <th></th>\n",
       "      <th></th>\n",
       "      <th></th>\n",
       "      <th></th>\n",
       "      <th></th>\n",
       "      <th></th>\n",
       "      <th></th>\n",
       "      <th></th>\n",
       "      <th></th>\n",
       "    </tr>\n",
       "  </thead>\n",
       "  <tbody>\n",
       "    <tr>\n",
       "      <th rowspan=\"2\" valign=\"top\">CT107</th>\n",
       "      <th>Left</th>\n",
       "      <td>72.248420</td>\n",
       "      <td>71.395037</td>\n",
       "      <td>66.19904</td>\n",
       "      <td>62.448782</td>\n",
       "      <td>61.533067</td>\n",
       "      <td>60.039913</td>\n",
       "      <td>76.177939</td>\n",
       "      <td>-0.535311</td>\n",
       "      <td>0.386803</td>\n",
       "    </tr>\n",
       "    <tr>\n",
       "      <th>Right</th>\n",
       "      <td>71.154329</td>\n",
       "      <td>69.520778</td>\n",
       "      <td>65.56753</td>\n",
       "      <td>62.737097</td>\n",
       "      <td>62.105325</td>\n",
       "      <td>59.427035</td>\n",
       "      <td>73.699931</td>\n",
       "      <td>-0.229152</td>\n",
       "      <td>0.490734</td>\n",
       "    </tr>\n",
       "  </tbody>\n",
       "</table>\n",
       "</div>"
      ],
      "text/plain": [
       "                      LAeq_5    LAeq_10   LAeq_50    LAeq_90    LAeq_95  \\\n",
       "Recording Channel                                                         \n",
       "CT107     Left     72.248420  71.395037  66.19904  62.448782  61.533067   \n",
       "          Right    71.154329  69.520778  65.56753  62.737097  62.105325   \n",
       "\n",
       "                    LAeq_min   LAeq_max  LAeq_kurt  LAeq_skew  \n",
       "Recording Channel                                              \n",
       "CT107     Left     60.039913  76.177939  -0.535311   0.386803  \n",
       "          Right    59.427035  73.699931  -0.229152   0.490734  "
      ]
     },
     "execution_count": 67,
     "metadata": {},
     "output_type": "execute_result"
    }
   ],
   "source": [
    "b.pyacoustics_metric(metric, stats, label, as_df=True)"
   ]
  },
  {
   "attachments": {},
   "cell_type": "markdown",
   "metadata": {},
   "source": [
    "And we can easily do the same for the C-weighting level, Z-weighting level & SEL:"
   ]
  },
  {
   "cell_type": "code",
   "execution_count": 60,
   "metadata": {},
   "outputs": [
    {
     "data": {
      "text/html": [
       "<div>\n",
       "<style scoped>\n",
       "    .dataframe tbody tr th:only-of-type {\n",
       "        vertical-align: middle;\n",
       "    }\n",
       "\n",
       "    .dataframe tbody tr th {\n",
       "        vertical-align: top;\n",
       "    }\n",
       "\n",
       "    .dataframe thead th {\n",
       "        text-align: right;\n",
       "    }\n",
       "</style>\n",
       "<table border=\"1\" class=\"dataframe\">\n",
       "  <thead>\n",
       "    <tr style=\"text-align: right;\">\n",
       "      <th></th>\n",
       "      <th></th>\n",
       "      <th>LCeq_5</th>\n",
       "      <th>LCeq_10</th>\n",
       "      <th>LCeq_50</th>\n",
       "      <th>LCeq_90</th>\n",
       "      <th>LCeq_95</th>\n",
       "      <th>LCeq_min</th>\n",
       "      <th>LCeq_max</th>\n",
       "      <th>LCeq_kurt</th>\n",
       "      <th>LCeq_skew</th>\n",
       "    </tr>\n",
       "    <tr>\n",
       "      <th>Recording</th>\n",
       "      <th>Channel</th>\n",
       "      <th></th>\n",
       "      <th></th>\n",
       "      <th></th>\n",
       "      <th></th>\n",
       "      <th></th>\n",
       "      <th></th>\n",
       "      <th></th>\n",
       "      <th></th>\n",
       "      <th></th>\n",
       "    </tr>\n",
       "  </thead>\n",
       "  <tbody>\n",
       "    <tr>\n",
       "      <th rowspan=\"2\" valign=\"top\">CT107</th>\n",
       "      <th>Left</th>\n",
       "      <td>79.242247</td>\n",
       "      <td>78.680350</td>\n",
       "      <td>75.113815</td>\n",
       "      <td>72.328403</td>\n",
       "      <td>71.518266</td>\n",
       "      <td>70.240559</td>\n",
       "      <td>81.788550</td>\n",
       "      <td>-0.472528</td>\n",
       "      <td>0.280531</td>\n",
       "    </tr>\n",
       "    <tr>\n",
       "      <th>Right</th>\n",
       "      <td>79.551775</td>\n",
       "      <td>78.854831</td>\n",
       "      <td>75.249339</td>\n",
       "      <td>72.684648</td>\n",
       "      <td>72.032466</td>\n",
       "      <td>70.161490</td>\n",
       "      <td>82.722557</td>\n",
       "      <td>-0.258482</td>\n",
       "      <td>0.382297</td>\n",
       "    </tr>\n",
       "  </tbody>\n",
       "</table>\n",
       "</div>"
      ],
      "text/plain": [
       "                      LCeq_5    LCeq_10    LCeq_50    LCeq_90    LCeq_95  \\\n",
       "Recording Channel                                                          \n",
       "CT107     Left     79.242247  78.680350  75.113815  72.328403  71.518266   \n",
       "          Right    79.551775  78.854831  75.249339  72.684648  72.032466   \n",
       "\n",
       "                    LCeq_min   LCeq_max  LCeq_kurt  LCeq_skew  \n",
       "Recording Channel                                              \n",
       "CT107     Left     70.240559  81.788550  -0.472528   0.280531  \n",
       "          Right    70.161490  82.722557  -0.258482   0.382297  "
      ]
     },
     "execution_count": 60,
     "metadata": {},
     "output_type": "execute_result"
    }
   ],
   "source": [
    "b.pyacoustics_metric(\"LCeq\", stats, as_df=True)"
   ]
  },
  {
   "cell_type": "code",
   "execution_count": 61,
   "metadata": {},
   "outputs": [
    {
     "data": {
      "text/html": [
       "<div>\n",
       "<style scoped>\n",
       "    .dataframe tbody tr th:only-of-type {\n",
       "        vertical-align: middle;\n",
       "    }\n",
       "\n",
       "    .dataframe tbody tr th {\n",
       "        vertical-align: top;\n",
       "    }\n",
       "\n",
       "    .dataframe thead th {\n",
       "        text-align: right;\n",
       "    }\n",
       "</style>\n",
       "<table border=\"1\" class=\"dataframe\">\n",
       "  <thead>\n",
       "    <tr style=\"text-align: right;\">\n",
       "      <th></th>\n",
       "      <th></th>\n",
       "      <th>LZeq_5</th>\n",
       "      <th>LZeq_10</th>\n",
       "      <th>LZeq_50</th>\n",
       "      <th>LZeq_90</th>\n",
       "      <th>LZeq_95</th>\n",
       "      <th>LZeq_min</th>\n",
       "      <th>LZeq_max</th>\n",
       "      <th>LZeq_kurt</th>\n",
       "      <th>LZeq_skew</th>\n",
       "    </tr>\n",
       "    <tr>\n",
       "      <th>Recording</th>\n",
       "      <th>Channel</th>\n",
       "      <th></th>\n",
       "      <th></th>\n",
       "      <th></th>\n",
       "      <th></th>\n",
       "      <th></th>\n",
       "      <th></th>\n",
       "      <th></th>\n",
       "      <th></th>\n",
       "      <th></th>\n",
       "    </tr>\n",
       "  </thead>\n",
       "  <tbody>\n",
       "    <tr>\n",
       "      <th rowspan=\"2\" valign=\"top\">CT107</th>\n",
       "      <th>Left</th>\n",
       "      <td>81.496859</td>\n",
       "      <td>80.480254</td>\n",
       "      <td>77.731949</td>\n",
       "      <td>74.486408</td>\n",
       "      <td>73.514358</td>\n",
       "      <td>71.178348</td>\n",
       "      <td>82.710189</td>\n",
       "      <td>-0.256629</td>\n",
       "      <td>-0.216762</td>\n",
       "    </tr>\n",
       "    <tr>\n",
       "      <th>Right</th>\n",
       "      <td>81.463682</td>\n",
       "      <td>80.680323</td>\n",
       "      <td>77.984310</td>\n",
       "      <td>74.911419</td>\n",
       "      <td>74.325250</td>\n",
       "      <td>72.526641</td>\n",
       "      <td>83.399769</td>\n",
       "      <td>-0.407596</td>\n",
       "      <td>-0.065666</td>\n",
       "    </tr>\n",
       "  </tbody>\n",
       "</table>\n",
       "</div>"
      ],
      "text/plain": [
       "                      LZeq_5    LZeq_10    LZeq_50    LZeq_90    LZeq_95  \\\n",
       "Recording Channel                                                          \n",
       "CT107     Left     81.496859  80.480254  77.731949  74.486408  73.514358   \n",
       "          Right    81.463682  80.680323  77.984310  74.911419  74.325250   \n",
       "\n",
       "                    LZeq_min   LZeq_max  LZeq_kurt  LZeq_skew  \n",
       "Recording Channel                                              \n",
       "CT107     Left     71.178348  82.710189  -0.256629  -0.216762  \n",
       "          Right    72.526641  83.399769  -0.407596  -0.065666  "
      ]
     },
     "execution_count": 61,
     "metadata": {},
     "output_type": "execute_result"
    }
   ],
   "source": [
    "b.pyacoustics_metric(\"LZeq\", stats, as_df=True)"
   ]
  },
  {
   "cell_type": "code",
   "execution_count": 62,
   "metadata": {},
   "outputs": [
    {
     "data": {
      "text/html": [
       "<div>\n",
       "<style scoped>\n",
       "    .dataframe tbody tr th:only-of-type {\n",
       "        vertical-align: middle;\n",
       "    }\n",
       "\n",
       "    .dataframe tbody tr th {\n",
       "        vertical-align: top;\n",
       "    }\n",
       "\n",
       "    .dataframe thead th {\n",
       "        text-align: right;\n",
       "    }\n",
       "</style>\n",
       "<table border=\"1\" class=\"dataframe\">\n",
       "  <thead>\n",
       "    <tr style=\"text-align: right;\">\n",
       "      <th></th>\n",
       "      <th></th>\n",
       "      <th>SEL</th>\n",
       "    </tr>\n",
       "    <tr>\n",
       "      <th>Recording</th>\n",
       "      <th>Channel</th>\n",
       "      <th></th>\n",
       "    </tr>\n",
       "  </thead>\n",
       "  <tbody>\n",
       "    <tr>\n",
       "      <th rowspan=\"2\" valign=\"top\">CT107</th>\n",
       "      <th>Left</th>\n",
       "      <td>93.17363454672746</td>\n",
       "    </tr>\n",
       "    <tr>\n",
       "      <th>Right</th>\n",
       "      <td>93.43334994170716</td>\n",
       "    </tr>\n",
       "  </tbody>\n",
       "</table>\n",
       "</div>"
      ],
      "text/plain": [
       "                                 SEL\n",
       "Recording Channel                   \n",
       "CT107     Left     93.17363454672746\n",
       "          Right    93.43334994170716"
      ]
     },
     "execution_count": 62,
     "metadata": {},
     "output_type": "execute_result"
    }
   ],
   "source": [
    "b.pyacoustics_metric(\"SEL\", stats, as_df=True)"
   ]
  },
  {
   "attachments": {},
   "cell_type": "markdown",
   "metadata": {},
   "source": [
    "By default, the metrics will be calculated for both channels. But you may want only a single channel. This can be set with the `channel` option."
   ]
  },
  {
   "cell_type": "code",
   "execution_count": 63,
   "metadata": {},
   "outputs": [
    {
     "data": {
      "text/html": [
       "<div>\n",
       "<style scoped>\n",
       "    .dataframe tbody tr th:only-of-type {\n",
       "        vertical-align: middle;\n",
       "    }\n",
       "\n",
       "    .dataframe tbody tr th {\n",
       "        vertical-align: top;\n",
       "    }\n",
       "\n",
       "    .dataframe thead th {\n",
       "        text-align: right;\n",
       "    }\n",
       "</style>\n",
       "<table border=\"1\" class=\"dataframe\">\n",
       "  <thead>\n",
       "    <tr style=\"text-align: right;\">\n",
       "      <th></th>\n",
       "      <th>LZeq</th>\n",
       "      <th>LZeq_5</th>\n",
       "      <th>LZeq_10</th>\n",
       "      <th>LZeq_50</th>\n",
       "      <th>LZeq_90</th>\n",
       "      <th>LZeq_95</th>\n",
       "      <th>LZeq_max</th>\n",
       "      <th>LZeq_min</th>\n",
       "      <th>LZeq_kurt</th>\n",
       "      <th>LZeq_skew</th>\n",
       "    </tr>\n",
       "  </thead>\n",
       "  <tbody>\n",
       "    <tr>\n",
       "      <th>CT107</th>\n",
       "      <td>78.215787</td>\n",
       "      <td>81.496859</td>\n",
       "      <td>80.480254</td>\n",
       "      <td>77.731949</td>\n",
       "      <td>74.486408</td>\n",
       "      <td>73.514358</td>\n",
       "      <td>82.710189</td>\n",
       "      <td>71.178348</td>\n",
       "      <td>-0.256629</td>\n",
       "      <td>-0.216762</td>\n",
       "    </tr>\n",
       "  </tbody>\n",
       "</table>\n",
       "</div>"
      ],
      "text/plain": [
       "            LZeq     LZeq_5    LZeq_10    LZeq_50    LZeq_90    LZeq_95  \\\n",
       "CT107  78.215787  81.496859  80.480254  77.731949  74.486408  73.514358   \n",
       "\n",
       "        LZeq_max   LZeq_min  LZeq_kurt  LZeq_skew  \n",
       "CT107  82.710189  71.178348  -0.256629  -0.216762  "
      ]
     },
     "execution_count": 63,
     "metadata": {},
     "output_type": "execute_result"
    }
   ],
   "source": [
    "b.pyacoustics_metric(\"LZeq\", channel=\"Left\")"
   ]
  },
  {
   "attachments": {},
   "cell_type": "markdown",
   "metadata": {},
   "source": [
    "\n",
    "<h2 style=\"color:#FFA500 ; font-weight: bold; font-style: italic;\">2) scikit-maad</h2>\n",
    "\n",
    "So far we have only implemented the combined `all_temporal_alpha_indices` and `all_spectral_alpha_indices` from `scikit-maad`; calculating them individually is not yet supported. `all_temporal_alpha_indices` comprises 16 temporal domain acoustic indices, such as temporal signal-to-noise-ratio, temporal entropy, temporal events. `all_spectral_alpha_indices` comprises 19 spectral domain acoustic indices, such as Bioacoustic Index, Acoustic Diversity Index, NDSI, Acoustic Evenness Index."
   ]
  },
  {
   "cell_type": "code",
   "execution_count": 36,
   "metadata": {},
   "outputs": [
    {
     "name": "stdout",
     "output_type": "stream",
     "text": [
      " - Calculating scikit-maad all_spectral_alpha_indices\n"
     ]
    },
    {
     "data": {
      "text/html": [
       "<div>\n",
       "<style scoped>\n",
       "    .dataframe tbody tr th:only-of-type {\n",
       "        vertical-align: middle;\n",
       "    }\n",
       "\n",
       "    .dataframe tbody tr th {\n",
       "        vertical-align: top;\n",
       "    }\n",
       "\n",
       "    .dataframe thead th {\n",
       "        text-align: right;\n",
       "    }\n",
       "</style>\n",
       "<table border=\"1\" class=\"dataframe\">\n",
       "  <thead>\n",
       "    <tr style=\"text-align: right;\">\n",
       "      <th></th>\n",
       "      <th></th>\n",
       "      <th>MEANf</th>\n",
       "      <th>VARf</th>\n",
       "      <th>SKEWf</th>\n",
       "      <th>KURTf</th>\n",
       "      <th>NBPEAKS</th>\n",
       "      <th>LEQf</th>\n",
       "      <th>ENRf</th>\n",
       "      <th>BGNf</th>\n",
       "      <th>SNRf</th>\n",
       "      <th>Hf</th>\n",
       "      <th>...</th>\n",
       "      <th>TFSD</th>\n",
       "      <th>H_Havrda</th>\n",
       "      <th>H_Renyi</th>\n",
       "      <th>H_pairedShannon</th>\n",
       "      <th>H_gamma</th>\n",
       "      <th>H_GiniSimpson</th>\n",
       "      <th>RAOQ</th>\n",
       "      <th>AGI</th>\n",
       "      <th>ROItotal</th>\n",
       "      <th>ROIcover</th>\n",
       "    </tr>\n",
       "    <tr>\n",
       "      <th>Recording</th>\n",
       "      <th>Channel</th>\n",
       "      <th></th>\n",
       "      <th></th>\n",
       "      <th></th>\n",
       "      <th></th>\n",
       "      <th></th>\n",
       "      <th></th>\n",
       "      <th></th>\n",
       "      <th></th>\n",
       "      <th></th>\n",
       "      <th></th>\n",
       "      <th></th>\n",
       "      <th></th>\n",
       "      <th></th>\n",
       "      <th></th>\n",
       "      <th></th>\n",
       "      <th></th>\n",
       "      <th></th>\n",
       "      <th></th>\n",
       "      <th></th>\n",
       "      <th></th>\n",
       "      <th></th>\n",
       "    </tr>\n",
       "  </thead>\n",
       "  <tbody>\n",
       "    <tr>\n",
       "      <th rowspan=\"2\" valign=\"top\">CT107</th>\n",
       "      <th>Left</th>\n",
       "      <td>0.001479</td>\n",
       "      <td>0.000036</td>\n",
       "      <td>9.825045</td>\n",
       "      <td>122.492452</td>\n",
       "      <td>37</td>\n",
       "      <td>75.948564</td>\n",
       "      <td>-17.051436</td>\n",
       "      <td>-19.651605</td>\n",
       "      <td>2.600169</td>\n",
       "      <td>0.348846</td>\n",
       "      <td>...</td>\n",
       "      <td>0.189200</td>\n",
       "      <td>0.306238</td>\n",
       "      <td>1.254894</td>\n",
       "      <td>3.044224</td>\n",
       "      <td>1338.067243</td>\n",
       "      <td>0.770212</td>\n",
       "      <td>0.014416</td>\n",
       "      <td>1.821037</td>\n",
       "      <td>31</td>\n",
       "      <td>3.092858</td>\n",
       "    </tr>\n",
       "    <tr>\n",
       "      <th>Right</th>\n",
       "      <td>0.001326</td>\n",
       "      <td>0.000038</td>\n",
       "      <td>10.339752</td>\n",
       "      <td>132.480186</td>\n",
       "      <td>20</td>\n",
       "      <td>76.043214</td>\n",
       "      <td>-16.956786</td>\n",
       "      <td>-19.346480</td>\n",
       "      <td>2.389694</td>\n",
       "      <td>0.322173</td>\n",
       "      <td>...</td>\n",
       "      <td>0.164626</td>\n",
       "      <td>0.301908</td>\n",
       "      <td>1.180761</td>\n",
       "      <td>2.863630</td>\n",
       "      <td>875.440276</td>\n",
       "      <td>0.747898</td>\n",
       "      <td>0.008257</td>\n",
       "      <td>1.578739</td>\n",
       "      <td>45</td>\n",
       "      <td>2.396588</td>\n",
       "    </tr>\n",
       "  </tbody>\n",
       "</table>\n",
       "<p>2 rows × 44 columns</p>\n",
       "</div>"
      ],
      "text/plain": [
       "                      MEANf      VARf      SKEWf       KURTf  NBPEAKS  \\\n",
       "Recording Channel                                                       \n",
       "CT107     Left     0.001479  0.000036   9.825045  122.492452       37   \n",
       "          Right    0.001326  0.000038  10.339752  132.480186       20   \n",
       "\n",
       "                        LEQf       ENRf       BGNf      SNRf        Hf  ...  \\\n",
       "Recording Channel                                                       ...   \n",
       "CT107     Left     75.948564 -17.051436 -19.651605  2.600169  0.348846  ...   \n",
       "          Right    76.043214 -16.956786 -19.346480  2.389694  0.322173  ...   \n",
       "\n",
       "                       TFSD  H_Havrda   H_Renyi  H_pairedShannon      H_gamma  \\\n",
       "Recording Channel                                                               \n",
       "CT107     Left     0.189200  0.306238  1.254894         3.044224  1338.067243   \n",
       "          Right    0.164626  0.301908  1.180761         2.863630   875.440276   \n",
       "\n",
       "                   H_GiniSimpson      RAOQ       AGI  ROItotal  ROIcover  \n",
       "Recording Channel                                                         \n",
       "CT107     Left          0.770212  0.014416  1.821037        31  3.092858  \n",
       "          Right         0.747898  0.008257  1.578739        45  2.396588  \n",
       "\n",
       "[2 rows x 44 columns]"
      ]
     },
     "execution_count": 36,
     "metadata": {},
     "output_type": "execute_result"
    }
   ],
   "source": [
    "b.maad_metric(\"all_spectral_alpha_indices\", verbose=True)"
   ]
  },
  {
   "cell_type": "code",
   "execution_count": 37,
   "metadata": {},
   "outputs": [
    {
     "name": "stdout",
     "output_type": "stream",
     "text": [
      " - Calculating scikit-maad all_temporal_alpha_indices\n"
     ]
    },
    {
     "data": {
      "text/html": [
       "<div>\n",
       "<style scoped>\n",
       "    .dataframe tbody tr th:only-of-type {\n",
       "        vertical-align: middle;\n",
       "    }\n",
       "\n",
       "    .dataframe tbody tr th {\n",
       "        vertical-align: top;\n",
       "    }\n",
       "\n",
       "    .dataframe thead th {\n",
       "        text-align: right;\n",
       "    }\n",
       "</style>\n",
       "<table border=\"1\" class=\"dataframe\">\n",
       "  <thead>\n",
       "    <tr style=\"text-align: right;\">\n",
       "      <th></th>\n",
       "      <th></th>\n",
       "      <th>ZCR</th>\n",
       "      <th>MEANt</th>\n",
       "      <th>VARt</th>\n",
       "      <th>SKEWt</th>\n",
       "      <th>KURTt</th>\n",
       "      <th>LEQt</th>\n",
       "      <th>BGNt</th>\n",
       "      <th>SNRt</th>\n",
       "      <th>MED</th>\n",
       "      <th>Ht</th>\n",
       "      <th>ACTtFraction</th>\n",
       "      <th>ACTtCount</th>\n",
       "      <th>ACTtMean</th>\n",
       "      <th>EVNtFraction</th>\n",
       "      <th>EVNtMean</th>\n",
       "      <th>EVNtCount</th>\n",
       "    </tr>\n",
       "    <tr>\n",
       "      <th>Recording</th>\n",
       "      <th>Channel</th>\n",
       "      <th></th>\n",
       "      <th></th>\n",
       "      <th></th>\n",
       "      <th></th>\n",
       "      <th></th>\n",
       "      <th></th>\n",
       "      <th></th>\n",
       "      <th></th>\n",
       "      <th></th>\n",
       "      <th></th>\n",
       "      <th></th>\n",
       "      <th></th>\n",
       "      <th></th>\n",
       "      <th></th>\n",
       "      <th></th>\n",
       "      <th></th>\n",
       "    </tr>\n",
       "  </thead>\n",
       "  <tbody>\n",
       "    <tr>\n",
       "      <th rowspan=\"2\" valign=\"top\">CT107</th>\n",
       "      <th>Left</th>\n",
       "      <td>704.498042</td>\n",
       "      <td>0.000011</td>\n",
       "      <td>0.026524</td>\n",
       "      <td>-0.042622</td>\n",
       "      <td>3.279072</td>\n",
       "      <td>77.258902</td>\n",
       "      <td>-10.650244</td>\n",
       "      <td>1.133523</td>\n",
       "      <td>0.293419</td>\n",
       "      <td>0.966822</td>\n",
       "      <td>0.171662</td>\n",
       "      <td>504</td>\n",
       "      <td>4.940459</td>\n",
       "      <td>0.130450</td>\n",
       "      <td>0.035836</td>\n",
       "      <td>3.641397</td>\n",
       "    </tr>\n",
       "    <tr>\n",
       "      <th>Right</th>\n",
       "      <td>579.774779</td>\n",
       "      <td>-0.000011</td>\n",
       "      <td>0.028159</td>\n",
       "      <td>-0.024423</td>\n",
       "      <td>3.214235</td>\n",
       "      <td>77.521892</td>\n",
       "      <td>-10.620388</td>\n",
       "      <td>1.054663</td>\n",
       "      <td>0.294429</td>\n",
       "      <td>0.969091</td>\n",
       "      <td>0.164850</td>\n",
       "      <td>484</td>\n",
       "      <td>4.795009</td>\n",
       "      <td>0.120572</td>\n",
       "      <td>0.032835</td>\n",
       "      <td>3.673339</td>\n",
       "    </tr>\n",
       "  </tbody>\n",
       "</table>\n",
       "</div>"
      ],
      "text/plain": [
       "                          ZCR     MEANt      VARt     SKEWt     KURTt  \\\n",
       "Recording Channel                                                       \n",
       "CT107     Left     704.498042  0.000011  0.026524 -0.042622  3.279072   \n",
       "          Right    579.774779 -0.000011  0.028159 -0.024423  3.214235   \n",
       "\n",
       "                        LEQt       BGNt      SNRt       MED        Ht  \\\n",
       "Recording Channel                                                       \n",
       "CT107     Left     77.258902 -10.650244  1.133523  0.293419  0.966822   \n",
       "          Right    77.521892 -10.620388  1.054663  0.294429  0.969091   \n",
       "\n",
       "                   ACTtFraction  ACTtCount  ACTtMean  EVNtFraction  EVNtMean  \\\n",
       "Recording Channel                                                              \n",
       "CT107     Left         0.171662        504  4.940459      0.130450  0.035836   \n",
       "          Right        0.164850        484  4.795009      0.120572  0.032835   \n",
       "\n",
       "                   EVNtCount  \n",
       "Recording Channel             \n",
       "CT107     Left      3.641397  \n",
       "          Right     3.673339  "
      ]
     },
     "execution_count": 37,
     "metadata": {},
     "output_type": "execute_result"
    }
   ],
   "source": [
    "b.maad_metric(\"all_temporal_alpha_indices\", verbose=True)"
   ]
  },
  {
   "attachments": {},
   "cell_type": "markdown",
   "metadata": {},
   "source": [
    "\n",
    "<h1 style=\"color:#FFA500 ; font-weight: bold; font-style: italic;\">3) MoSQITo</h1>\n",
    "\n",
    "MoSQITo is very exciting as it is one of the first completely free and open-source libraries for calculating psychoacoustic features.\n",
    "\n",
    "Let's try out calculating the psychoacoustic Loudness, Sharpness, and Roughness.\n",
    "\n",
    "We start by defining many of the same options, but with two new ones. The first is our `func_args` to pass to `MoSQITo`. Since our test recording was collected in a public park, we need to select the correct field type: free or diffuse, and pass that to MoSQITo.\n",
    "\n",
    "The second new argument is `parallel`. This just tells Soundscapy whether to try to calculate the Left and Right channels simultaneously to speed up processing."
   ]
  },
  {
   "cell_type": "code",
   "execution_count": 38,
   "metadata": {},
   "outputs": [
    {
     "name": "stdout",
     "output_type": "stream",
     "text": [
      " - Calculating MoSQITo metric: loudness_zwtv\n"
     ]
    },
    {
     "data": {
      "text/html": [
       "<div>\n",
       "<style scoped>\n",
       "    .dataframe tbody tr th:only-of-type {\n",
       "        vertical-align: middle;\n",
       "    }\n",
       "\n",
       "    .dataframe tbody tr th {\n",
       "        vertical-align: top;\n",
       "    }\n",
       "\n",
       "    .dataframe thead th {\n",
       "        text-align: right;\n",
       "    }\n",
       "</style>\n",
       "<table border=\"1\" class=\"dataframe\">\n",
       "  <thead>\n",
       "    <tr style=\"text-align: right;\">\n",
       "      <th></th>\n",
       "      <th></th>\n",
       "      <th>N_5</th>\n",
       "      <th>N_50</th>\n",
       "      <th>N_avg</th>\n",
       "      <th>N_max</th>\n",
       "    </tr>\n",
       "    <tr>\n",
       "      <th>Recording</th>\n",
       "      <th>Channel</th>\n",
       "      <th></th>\n",
       "      <th></th>\n",
       "      <th></th>\n",
       "      <th></th>\n",
       "    </tr>\n",
       "  </thead>\n",
       "  <tbody>\n",
       "    <tr>\n",
       "      <th rowspan=\"2\" valign=\"top\">CT107</th>\n",
       "      <th>Left</th>\n",
       "      <td>29.272874</td>\n",
       "      <td>19.600586</td>\n",
       "      <td>20.735952</td>\n",
       "      <td>36.678760</td>\n",
       "    </tr>\n",
       "    <tr>\n",
       "      <th>Right</th>\n",
       "      <td>26.464431</td>\n",
       "      <td>18.985188</td>\n",
       "      <td>19.748700</td>\n",
       "      <td>32.968039</td>\n",
       "    </tr>\n",
       "  </tbody>\n",
       "</table>\n",
       "</div>"
      ],
      "text/plain": [
       "                         N_5       N_50      N_avg      N_max\n",
       "Recording Channel                                            \n",
       "CT107     Left     29.272874  19.600586  20.735952  36.678760\n",
       "          Right    26.464431  18.985188  19.748700  32.968039"
      ]
     },
     "execution_count": 38,
     "metadata": {},
     "output_type": "execute_result"
    }
   ],
   "source": [
    "metric = \"loudness_zwtv\"\n",
    "stats = (5, 50, 'avg', 'max')\n",
    "func_args = {\n",
    "    'field_type': 'free'\n",
    "}\n",
    "\n",
    "b.mosqito_metric(metric, statistics=stats, as_df=True, parallel=True, verbose=True, func_args=func_args)"
   ]
  },
  {
   "attachments": {},
   "cell_type": "markdown",
   "metadata": {},
   "source": [
    "`sharpness_din_from_loudness` is a bit of a special case to keep in mind. It can drastically speed up the processing time since it calculates the Sharpness values from pre-calculated Loudness results. If you are planning to do both analyses, I highly suggest using it. Soundscapy will handle it behind the scenes to make sure it doesn't accidentally calculate the Loudness values twice if you've asked for both of them. Let's try it out."
   ]
  },
  {
   "cell_type": "code",
   "execution_count": 39,
   "metadata": {},
   "outputs": [
    {
     "name": "stdout",
     "output_type": "stream",
     "text": [
      " - Calculating MoSQITo metrics: `sharpness_din` from `loudness_zwtv`\n"
     ]
    },
    {
     "data": {
      "text/html": [
       "<div>\n",
       "<style scoped>\n",
       "    .dataframe tbody tr th:only-of-type {\n",
       "        vertical-align: middle;\n",
       "    }\n",
       "\n",
       "    .dataframe tbody tr th {\n",
       "        vertical-align: top;\n",
       "    }\n",
       "\n",
       "    .dataframe thead th {\n",
       "        text-align: right;\n",
       "    }\n",
       "</style>\n",
       "<table border=\"1\" class=\"dataframe\">\n",
       "  <thead>\n",
       "    <tr style=\"text-align: right;\">\n",
       "      <th></th>\n",
       "      <th></th>\n",
       "      <th>N_5</th>\n",
       "      <th>N_50</th>\n",
       "      <th>N_avg</th>\n",
       "      <th>N_max</th>\n",
       "      <th>S_5</th>\n",
       "      <th>S_50</th>\n",
       "      <th>S_avg</th>\n",
       "      <th>S_max</th>\n",
       "    </tr>\n",
       "    <tr>\n",
       "      <th>Recording</th>\n",
       "      <th>Channel</th>\n",
       "      <th></th>\n",
       "      <th></th>\n",
       "      <th></th>\n",
       "      <th></th>\n",
       "      <th></th>\n",
       "      <th></th>\n",
       "      <th></th>\n",
       "      <th></th>\n",
       "    </tr>\n",
       "  </thead>\n",
       "  <tbody>\n",
       "    <tr>\n",
       "      <th rowspan=\"2\" valign=\"top\">CT107</th>\n",
       "      <th>Left</th>\n",
       "      <td>29.272874</td>\n",
       "      <td>19.600586</td>\n",
       "      <td>20.735952</td>\n",
       "      <td>36.678760</td>\n",
       "      <td>1.486110</td>\n",
       "      <td>1.187770</td>\n",
       "      <td>1.215446</td>\n",
       "      <td>19.104348</td>\n",
       "    </tr>\n",
       "    <tr>\n",
       "      <th>Right</th>\n",
       "      <td>26.464431</td>\n",
       "      <td>18.985188</td>\n",
       "      <td>19.748700</td>\n",
       "      <td>32.968039</td>\n",
       "      <td>1.357829</td>\n",
       "      <td>1.142107</td>\n",
       "      <td>1.160933</td>\n",
       "      <td>19.097565</td>\n",
       "    </tr>\n",
       "  </tbody>\n",
       "</table>\n",
       "</div>"
      ],
      "text/plain": [
       "                         N_5       N_50      N_avg      N_max       S_5  \\\n",
       "Recording Channel                                                         \n",
       "CT107     Left     29.272874  19.600586  20.735952  36.678760  1.486110   \n",
       "          Right    26.464431  18.985188  19.748700  32.968039  1.357829   \n",
       "\n",
       "                       S_50     S_avg      S_max  \n",
       "Recording Channel                                 \n",
       "CT107     Left     1.187770  1.215446  19.104348  \n",
       "          Right    1.142107  1.160933  19.097565  "
      ]
     },
     "execution_count": 39,
     "metadata": {},
     "output_type": "execute_result"
    }
   ],
   "source": [
    "b.mosqito_metric(\"sharpness_din_from_loudness\", stats, as_df=True, parallel=True, verbose=True, func_args=func_args)"
   ]
  },
  {
   "cell_type": "code",
   "execution_count": 43,
   "metadata": {},
   "outputs": [
    {
     "name": "stdout",
     "output_type": "stream",
     "text": [
      " - Calculating MoSQITo metric: roughness_dw\n"
     ]
    },
    {
     "data": {
      "text/html": [
       "<div>\n",
       "<style scoped>\n",
       "    .dataframe tbody tr th:only-of-type {\n",
       "        vertical-align: middle;\n",
       "    }\n",
       "\n",
       "    .dataframe tbody tr th {\n",
       "        vertical-align: top;\n",
       "    }\n",
       "\n",
       "    .dataframe thead th {\n",
       "        text-align: right;\n",
       "    }\n",
       "</style>\n",
       "<table border=\"1\" class=\"dataframe\">\n",
       "  <thead>\n",
       "    <tr style=\"text-align: right;\">\n",
       "      <th></th>\n",
       "      <th></th>\n",
       "      <th>R_5</th>\n",
       "      <th>R_50</th>\n",
       "      <th>R_avg</th>\n",
       "      <th>R_max</th>\n",
       "    </tr>\n",
       "    <tr>\n",
       "      <th>Recording</th>\n",
       "      <th>Channel</th>\n",
       "      <th></th>\n",
       "      <th></th>\n",
       "      <th></th>\n",
       "      <th></th>\n",
       "    </tr>\n",
       "  </thead>\n",
       "  <tbody>\n",
       "    <tr>\n",
       "      <th rowspan=\"2\" valign=\"top\">CT107</th>\n",
       "      <th>Left</th>\n",
       "      <td>0.144713</td>\n",
       "      <td>0.053606</td>\n",
       "      <td>0.072665</td>\n",
       "      <td>1.106715</td>\n",
       "    </tr>\n",
       "    <tr>\n",
       "      <th>Right</th>\n",
       "      <td>0.237170</td>\n",
       "      <td>0.053157</td>\n",
       "      <td>0.095495</td>\n",
       "      <td>2.529605</td>\n",
       "    </tr>\n",
       "  </tbody>\n",
       "</table>\n",
       "</div>"
      ],
      "text/plain": [
       "                        R_5      R_50     R_avg     R_max\n",
       "Recording Channel                                        \n",
       "CT107     Left     0.144713  0.053606  0.072665  1.106715\n",
       "          Right    0.237170  0.053157  0.095495  2.529605"
      ]
     },
     "execution_count": 43,
     "metadata": {},
     "output_type": "execute_result"
    }
   ],
   "source": [
    "b.mosqito_metric(\"roughness_dw\", stats, as_df=True, verbose=True, func_args=func_args)"
   ]
  },
  {
   "attachments": {},
   "cell_type": "markdown",
   "metadata": {},
   "source": [
    "# <h1 style=\"color:#AED6F1 ; font-weight: bold; font-style: italic;\">Defining Analysis Settings</h1>"
   ]
  },
  {
   "attachments": {},
   "cell_type": "markdown",
   "metadata": {},
   "source": [
    "Soundscapy provides the ability to predefine your analysis settings. These are defined in a separate `.yaml` file and are managed by Soundscapy using the `AnalysisSettings` class. These settings can then be passed to any of the analysis functions, rather than separately defining your settings as we did above. This will be particularly useful when performing our batch processing on an entire folder of wav recordings later.\n",
    "\n",
    "Soundscapy provides a set of default settings which can be easily loaded in:"
   ]
  },
  {
   "cell_type": "code",
   "execution_count": 44,
   "metadata": {},
   "outputs": [
    {
     "data": {
      "text/plain": [
       "{'PythonAcoustics': {'LAeq': {'run': True,\n",
       "   'main': 'avg',\n",
       "   'statistics': [5, 10, 50, 90, 95, 'min', 'max', 'kurt', 'skew'],\n",
       "   'channel': ['Left', 'Right'],\n",
       "   'label': 'LAeq',\n",
       "   'func_args': {'time': 0.125, 'method': 'average'}},\n",
       "  'LZeq': {'run': True,\n",
       "   'main': 'avg',\n",
       "   'statistics': [5, 10, 50, 90, 95, 'min', 'max', 'kurt', 'skew'],\n",
       "   'channel': ['Left', 'Right'],\n",
       "   'label': 'LZeq',\n",
       "   'func_args': {'time': 0.125, 'method': 'average'}},\n",
       "  'LCeq': {'run': True,\n",
       "   'main': 'avg',\n",
       "   'statistics': [5, 10, 50, 90, 95, 'min', 'max', 'kurt', 'skew'],\n",
       "   'channel': ['Left', 'Right'],\n",
       "   'label': 'LCeq',\n",
       "   'func_args': {'time': 0.125, 'method': 'average'}},\n",
       "  'SEL': {'run': True,\n",
       "   'main': [],\n",
       "   'statistics': [],\n",
       "   'channel': ['Left', 'Right'],\n",
       "   'label': 'SEL'}},\n",
       " 'MoSQITo': {'loudness_zwtv': {'run': False,\n",
       "   'main': 5,\n",
       "   'statistics': [10, 50, 90, 95, 'min', 'max', 'kurt', 'skew', 'avg'],\n",
       "   'channel': ['Left', 'Right'],\n",
       "   'label': 'N',\n",
       "   'parallel': True,\n",
       "   'func_args': {'field_type': 'free'}},\n",
       "  'sharpness_din_from_loudness': {'run': True,\n",
       "   'main': 'avg',\n",
       "   'statistics': [5, 10, 50, 90, 95, 'min', 'max', 'kurt', 'skew'],\n",
       "   'channel': ['Left', 'Right'],\n",
       "   'label': 'S_L',\n",
       "   'parallel': True,\n",
       "   'func_args': {'weighting': 'din', 'skip': 0.5, 'field_type': 'free'}},\n",
       "  'sharpness_din_perseg': {'run': True,\n",
       "   'main': 'avg',\n",
       "   'statistics': [5, 10, 50, 90, 95, 'min', 'max', 'kurt', 'skew'],\n",
       "   'channel': ['Left', 'Right'],\n",
       "   'label': 'S_perseg',\n",
       "   'parallel': False,\n",
       "   'func_args': {'weighting': 'din', 'nperseg': 4096, 'field_type': 'free'}},\n",
       "  'sharpness_din_tv': {'run': False,\n",
       "   'main': 'avg',\n",
       "   'statistics': [5, 10, 50, 90, 95, 'min', 'max', 'kurt', 'skew'],\n",
       "   'channel': ['Left', 'Right'],\n",
       "   'label': 'S_din_tv',\n",
       "   'parallel': True,\n",
       "   'func_args': {'weighting': 'din', 'field_type': 'free', 'skip': 0.5}},\n",
       "  'roughness_dw': {'run': True,\n",
       "   'main': 'avg',\n",
       "   'statistics': [5, 10, 50, 90, 95, 'min', 'max', 'kurt', 'skew'],\n",
       "   'channel': ['Left', 'Right'],\n",
       "   'label': 'R',\n",
       "   'parallel': True}},\n",
       " 'scikit-maad': {'all_temporal_alpha_indices': {'run': True,\n",
       "   'channel': ['Left', 'Right']},\n",
       "  'all_spectral_alpha_indices': {'run': True, 'channel': ['Left', 'Right']}},\n",
       " 'runtime': '2023-06-06 11:03:59'}"
      ]
     },
     "execution_count": 44,
     "metadata": {},
     "output_type": "execute_result"
    }
   ],
   "source": [
    "analysis_settings = AnalysisSettings.default()\n",
    "analysis_settings"
   ]
  },
  {
   "attachments": {},
   "cell_type": "markdown",
   "metadata": {},
   "source": [
    "However, in your own analysis you'll probably want to define your own options and load that in. We'll show how this is done using the ' example_settings.yaml ' file.\n",
    "\n",
    "Let's try loading in the `example_settings.yaml` file and see how `AnalysisSettings` handles it."
   ]
  },
  {
   "cell_type": "code",
   "execution_count": 45,
   "metadata": {},
   "outputs": [
    {
     "data": {
      "text/plain": [
       "{'PythonAcoustics': {'LAeq': {'run': True,\n",
       "   'main': 'avg',\n",
       "   'statistics': [5, 10, 50, 90, 95, 'min', 'max', 'kurt', 'skew'],\n",
       "   'channel': ['Left', 'Right'],\n",
       "   'label': 'LAeq',\n",
       "   'func_args': {'time': 0.125, 'method': 'average'}},\n",
       "  'LZeq': {'run': True,\n",
       "   'main': 'avg',\n",
       "   'statistics': [5, 10, 50, 90, 95, 'min', 'max', 'kurt', 'skew'],\n",
       "   'channel': ['Left', 'Right'],\n",
       "   'label': 'LZeq',\n",
       "   'func_args': {'time': 0.125, 'method': 'average'}},\n",
       "  'LCeq': {'run': True,\n",
       "   'main': 'avg',\n",
       "   'statistics': [5, 10, 50, 90, 95, 'min', 'max', 'kurt', 'skew'],\n",
       "   'channel': ['Left', 'Right'],\n",
       "   'label': 'LCeq',\n",
       "   'func_args': {'time': 0.125, 'method': 'average'}},\n",
       "  'SEL': {'run': True,\n",
       "   'main': [],\n",
       "   'statistics': [],\n",
       "   'channel': ['Left', 'Right'],\n",
       "   'label': 'SEL'}},\n",
       " 'MoSQITo': {'loudness_zwtv': {'run': False,\n",
       "   'main': 5,\n",
       "   'statistics': [10, 50, 90, 95, 'min', 'max', 'kurt', 'skew', 'avg'],\n",
       "   'channel': ['Left', 'Right'],\n",
       "   'label': 'N',\n",
       "   'parallel': True,\n",
       "   'func_args': {'field_type': 'free'}},\n",
       "  'sharpness_din_from_loudness': {'run': False,\n",
       "   'main': 'avg',\n",
       "   'statistics': [5, 10, 50, 90, 95, 'min', 'max', 'kurt', 'skew'],\n",
       "   'channel': ['Left', 'Right'],\n",
       "   'label': 'S',\n",
       "   'parallel': True,\n",
       "   'func_args': {'weighting': 'din', 'skip': 0.5, 'field_type': 'free'}},\n",
       "  'sharpness_din_perseg': {'run': False,\n",
       "   'main': 'avg',\n",
       "   'statistics': [5, 10, 50, 90, 95, 'min', 'max', 'kurt', 'skew'],\n",
       "   'channel': ['Left', 'Right'],\n",
       "   'label': 'S_perseg',\n",
       "   'parallel': False,\n",
       "   'func_args': {'weighting': 'din', 'nperseg': 4096, 'field_type': 'free'}},\n",
       "  'sharpness_din_tv': {'run': False,\n",
       "   'main': 'avg',\n",
       "   'statistics': [5, 10, 50, 90, 95, 'min', 'max', 'kurt', 'skew'],\n",
       "   'channel': ['Left', 'Right'],\n",
       "   'label': 'S_din_tv',\n",
       "   'parallel': True,\n",
       "   'func_args': {'weighting': 'din', 'field_type': 'free', 'skip': 0.5}},\n",
       "  'roughness_dw': {'run': False,\n",
       "   'main': 'avg',\n",
       "   'statistics': [5, 10, 50, 90, 95, 'min', 'max', 'kurt', 'skew'],\n",
       "   'channel': ['Left', 'Right'],\n",
       "   'label': 'R',\n",
       "   'parallel': True}},\n",
       " 'scikit-maad': {'all_temporal_alpha_indices': {'run': True,\n",
       "   'channel': ['Left', 'Right']},\n",
       "  'all_spectral_alpha_indices': {'run': False, 'channel': ['Left', 'Right']}},\n",
       " 'runtime': '2023-06-06 11:04:02'}"
      ]
     },
     "execution_count": 45,
     "metadata": {},
     "output_type": "execute_result"
    }
   ],
   "source": [
    "ex_settings = AnalysisSettings.from_yaml(Path(\"example_settings.yaml\"))\n",
    "ex_settings"
   ]
  },
  {
   "attachments": {},
   "cell_type": "markdown",
   "metadata": {},
   "source": [
    "You can easily reload the settings `.yaml` after changing it:"
   ]
  },
  {
   "cell_type": "code",
   "execution_count": 53,
   "metadata": {},
   "outputs": [],
   "source": [
    "ex_settings = ex_settings.reload()"
   ]
  },
  {
   "attachments": {},
   "cell_type": "markdown",
   "metadata": {},
   "source": [
    "# <h1 style=\"color:#AED6F1 ; font-weight: bold; font-style: italic;\">Running a Single Metric with Predefined Settings</h1>"
   ]
  },
  {
   "attachments": {},
   "cell_type": "markdown",
   "metadata": {},
   "source": [
    "Now, with our settings loaded, we process a recording using those settings:"
   ]
  },
  {
   "cell_type": "code",
   "execution_count": 47,
   "metadata": {},
   "outputs": [
    {
     "data": {
      "text/html": [
       "<div>\n",
       "<style scoped>\n",
       "    .dataframe tbody tr th:only-of-type {\n",
       "        vertical-align: middle;\n",
       "    }\n",
       "\n",
       "    .dataframe tbody tr th {\n",
       "        vertical-align: top;\n",
       "    }\n",
       "\n",
       "    .dataframe thead th {\n",
       "        text-align: right;\n",
       "    }\n",
       "</style>\n",
       "<table border=\"1\" class=\"dataframe\">\n",
       "  <thead>\n",
       "    <tr style=\"text-align: right;\">\n",
       "      <th></th>\n",
       "      <th></th>\n",
       "      <th>LAeq</th>\n",
       "      <th>LAeq_5</th>\n",
       "      <th>LAeq_10</th>\n",
       "      <th>LAeq_50</th>\n",
       "      <th>LAeq_90</th>\n",
       "      <th>LAeq_95</th>\n",
       "      <th>LAeq_min</th>\n",
       "      <th>LAeq_max</th>\n",
       "      <th>LAeq_kurt</th>\n",
       "      <th>LAeq_skew</th>\n",
       "    </tr>\n",
       "    <tr>\n",
       "      <th>Recording</th>\n",
       "      <th>Channel</th>\n",
       "      <th></th>\n",
       "      <th></th>\n",
       "      <th></th>\n",
       "      <th></th>\n",
       "      <th></th>\n",
       "      <th></th>\n",
       "      <th></th>\n",
       "      <th></th>\n",
       "      <th></th>\n",
       "      <th></th>\n",
       "    </tr>\n",
       "  </thead>\n",
       "  <tbody>\n",
       "    <tr>\n",
       "      <th rowspan=\"2\" valign=\"top\">CT107</th>\n",
       "      <th>Left</th>\n",
       "      <td>68.04434</td>\n",
       "      <td>72.248420</td>\n",
       "      <td>71.395037</td>\n",
       "      <td>66.19904</td>\n",
       "      <td>62.448782</td>\n",
       "      <td>61.533067</td>\n",
       "      <td>60.039913</td>\n",
       "      <td>76.177939</td>\n",
       "      <td>-0.535311</td>\n",
       "      <td>0.386803</td>\n",
       "    </tr>\n",
       "    <tr>\n",
       "      <th>Right</th>\n",
       "      <td>66.95764</td>\n",
       "      <td>71.154329</td>\n",
       "      <td>69.520778</td>\n",
       "      <td>65.56753</td>\n",
       "      <td>62.737097</td>\n",
       "      <td>62.105325</td>\n",
       "      <td>59.427035</td>\n",
       "      <td>73.699931</td>\n",
       "      <td>-0.229152</td>\n",
       "      <td>0.490734</td>\n",
       "    </tr>\n",
       "  </tbody>\n",
       "</table>\n",
       "</div>"
      ],
      "text/plain": [
       "                       LAeq     LAeq_5    LAeq_10   LAeq_50    LAeq_90  \\\n",
       "Recording Channel                                                        \n",
       "CT107     Left     68.04434  72.248420  71.395037  66.19904  62.448782   \n",
       "          Right    66.95764  71.154329  69.520778  65.56753  62.737097   \n",
       "\n",
       "                     LAeq_95   LAeq_min   LAeq_max  LAeq_kurt  LAeq_skew  \n",
       "Recording Channel                                                         \n",
       "CT107     Left     61.533067  60.039913  76.177939  -0.535311   0.386803  \n",
       "          Right    62.105325  59.427035  73.699931  -0.229152   0.490734  "
      ]
     },
     "execution_count": 47,
     "metadata": {},
     "output_type": "execute_result"
    }
   ],
   "source": [
    "b.pyacoustics_metric(\"LAeq\", analysis_settings=ex_settings)"
   ]
  },
  {
   "cell_type": "code",
   "execution_count": 48,
   "metadata": {},
   "outputs": [
    {
     "data": {
      "text/html": [
       "<div>\n",
       "<style scoped>\n",
       "    .dataframe tbody tr th:only-of-type {\n",
       "        vertical-align: middle;\n",
       "    }\n",
       "\n",
       "    .dataframe tbody tr th {\n",
       "        vertical-align: top;\n",
       "    }\n",
       "\n",
       "    .dataframe thead th {\n",
       "        text-align: right;\n",
       "    }\n",
       "</style>\n",
       "<table border=\"1\" class=\"dataframe\">\n",
       "  <thead>\n",
       "    <tr style=\"text-align: right;\">\n",
       "      <th></th>\n",
       "      <th></th>\n",
       "      <th>LCeq</th>\n",
       "      <th>LCeq_5</th>\n",
       "      <th>LCeq_10</th>\n",
       "      <th>LCeq_50</th>\n",
       "      <th>LCeq_90</th>\n",
       "      <th>LCeq_95</th>\n",
       "      <th>LCeq_min</th>\n",
       "      <th>LCeq_max</th>\n",
       "      <th>LCeq_kurt</th>\n",
       "      <th>LCeq_skew</th>\n",
       "    </tr>\n",
       "    <tr>\n",
       "      <th>Recording</th>\n",
       "      <th>Channel</th>\n",
       "      <th></th>\n",
       "      <th></th>\n",
       "      <th></th>\n",
       "      <th></th>\n",
       "      <th></th>\n",
       "      <th></th>\n",
       "      <th></th>\n",
       "      <th></th>\n",
       "      <th></th>\n",
       "      <th></th>\n",
       "    </tr>\n",
       "  </thead>\n",
       "  <tbody>\n",
       "    <tr>\n",
       "      <th rowspan=\"2\" valign=\"top\">CT107</th>\n",
       "      <th>Left</th>\n",
       "      <td>76.091611</td>\n",
       "      <td>79.242247</td>\n",
       "      <td>78.680350</td>\n",
       "      <td>75.113815</td>\n",
       "      <td>72.328403</td>\n",
       "      <td>71.518266</td>\n",
       "      <td>70.240559</td>\n",
       "      <td>81.788550</td>\n",
       "      <td>-0.472528</td>\n",
       "      <td>0.280531</td>\n",
       "    </tr>\n",
       "    <tr>\n",
       "      <th>Right</th>\n",
       "      <td>76.175086</td>\n",
       "      <td>79.551775</td>\n",
       "      <td>78.854831</td>\n",
       "      <td>75.249339</td>\n",
       "      <td>72.684648</td>\n",
       "      <td>72.032466</td>\n",
       "      <td>70.161490</td>\n",
       "      <td>82.722557</td>\n",
       "      <td>-0.258482</td>\n",
       "      <td>0.382297</td>\n",
       "    </tr>\n",
       "  </tbody>\n",
       "</table>\n",
       "</div>"
      ],
      "text/plain": [
       "                        LCeq     LCeq_5    LCeq_10    LCeq_50    LCeq_90  \\\n",
       "Recording Channel                                                          \n",
       "CT107     Left     76.091611  79.242247  78.680350  75.113815  72.328403   \n",
       "          Right    76.175086  79.551775  78.854831  75.249339  72.684648   \n",
       "\n",
       "                     LCeq_95   LCeq_min   LCeq_max  LCeq_kurt  LCeq_skew  \n",
       "Recording Channel                                                         \n",
       "CT107     Left     71.518266  70.240559  81.788550  -0.472528   0.280531  \n",
       "          Right    72.032466  70.161490  82.722557  -0.258482   0.382297  "
      ]
     },
     "execution_count": 48,
     "metadata": {},
     "output_type": "execute_result"
    }
   ],
   "source": [
    "b.pyacoustics_metric(\"LCeq\", analysis_settings=ex_settings)"
   ]
  },
  {
   "cell_type": "code",
   "execution_count": 49,
   "metadata": {},
   "outputs": [
    {
     "data": {
      "text/html": [
       "<div>\n",
       "<style scoped>\n",
       "    .dataframe tbody tr th:only-of-type {\n",
       "        vertical-align: middle;\n",
       "    }\n",
       "\n",
       "    .dataframe tbody tr th {\n",
       "        vertical-align: top;\n",
       "    }\n",
       "\n",
       "    .dataframe thead th {\n",
       "        text-align: right;\n",
       "    }\n",
       "</style>\n",
       "<table border=\"1\" class=\"dataframe\">\n",
       "  <thead>\n",
       "    <tr style=\"text-align: right;\">\n",
       "      <th></th>\n",
       "      <th></th>\n",
       "      <th>LZeq</th>\n",
       "      <th>LZeq_5</th>\n",
       "      <th>LZeq_10</th>\n",
       "      <th>LZeq_50</th>\n",
       "      <th>LZeq_90</th>\n",
       "      <th>LZeq_95</th>\n",
       "      <th>LZeq_min</th>\n",
       "      <th>LZeq_max</th>\n",
       "      <th>LZeq_kurt</th>\n",
       "      <th>LZeq_skew</th>\n",
       "    </tr>\n",
       "    <tr>\n",
       "      <th>Recording</th>\n",
       "      <th>Channel</th>\n",
       "      <th></th>\n",
       "      <th></th>\n",
       "      <th></th>\n",
       "      <th></th>\n",
       "      <th></th>\n",
       "      <th></th>\n",
       "      <th></th>\n",
       "      <th></th>\n",
       "      <th></th>\n",
       "      <th></th>\n",
       "    </tr>\n",
       "  </thead>\n",
       "  <tbody>\n",
       "    <tr>\n",
       "      <th rowspan=\"2\" valign=\"top\">CT107</th>\n",
       "      <th>Left</th>\n",
       "      <td>78.215787</td>\n",
       "      <td>81.496859</td>\n",
       "      <td>80.480254</td>\n",
       "      <td>77.731949</td>\n",
       "      <td>74.486408</td>\n",
       "      <td>73.514358</td>\n",
       "      <td>71.178348</td>\n",
       "      <td>82.710189</td>\n",
       "      <td>-0.256629</td>\n",
       "      <td>-0.216762</td>\n",
       "    </tr>\n",
       "    <tr>\n",
       "      <th>Right</th>\n",
       "      <td>78.475501</td>\n",
       "      <td>81.463682</td>\n",
       "      <td>80.680323</td>\n",
       "      <td>77.984310</td>\n",
       "      <td>74.911419</td>\n",
       "      <td>74.325250</td>\n",
       "      <td>72.526641</td>\n",
       "      <td>83.399769</td>\n",
       "      <td>-0.407596</td>\n",
       "      <td>-0.065666</td>\n",
       "    </tr>\n",
       "  </tbody>\n",
       "</table>\n",
       "</div>"
      ],
      "text/plain": [
       "                        LZeq     LZeq_5    LZeq_10    LZeq_50    LZeq_90  \\\n",
       "Recording Channel                                                          \n",
       "CT107     Left     78.215787  81.496859  80.480254  77.731949  74.486408   \n",
       "          Right    78.475501  81.463682  80.680323  77.984310  74.911419   \n",
       "\n",
       "                     LZeq_95   LZeq_min   LZeq_max  LZeq_kurt  LZeq_skew  \n",
       "Recording Channel                                                         \n",
       "CT107     Left     73.514358  71.178348  82.710189  -0.256629  -0.216762  \n",
       "          Right    74.325250  72.526641  83.399769  -0.407596  -0.065666  "
      ]
     },
     "execution_count": 49,
     "metadata": {},
     "output_type": "execute_result"
    }
   ],
   "source": [
    "b.pyacoustics_metric(\"LZeq\", analysis_settings=ex_settings)"
   ]
  },
  {
   "cell_type": "code",
   "execution_count": 50,
   "metadata": {},
   "outputs": [
    {
     "data": {
      "text/html": [
       "<div>\n",
       "<style scoped>\n",
       "    .dataframe tbody tr th:only-of-type {\n",
       "        vertical-align: middle;\n",
       "    }\n",
       "\n",
       "    .dataframe tbody tr th {\n",
       "        vertical-align: top;\n",
       "    }\n",
       "\n",
       "    .dataframe thead th {\n",
       "        text-align: right;\n",
       "    }\n",
       "</style>\n",
       "<table border=\"1\" class=\"dataframe\">\n",
       "  <thead>\n",
       "    <tr style=\"text-align: right;\">\n",
       "      <th></th>\n",
       "      <th></th>\n",
       "      <th>SEL</th>\n",
       "    </tr>\n",
       "    <tr>\n",
       "      <th>Recording</th>\n",
       "      <th>Channel</th>\n",
       "      <th></th>\n",
       "    </tr>\n",
       "  </thead>\n",
       "  <tbody>\n",
       "    <tr>\n",
       "      <th rowspan=\"2\" valign=\"top\">CT107</th>\n",
       "      <th>Left</th>\n",
       "      <td>93.17363454672746</td>\n",
       "    </tr>\n",
       "    <tr>\n",
       "      <th>Right</th>\n",
       "      <td>93.43334994170716</td>\n",
       "    </tr>\n",
       "  </tbody>\n",
       "</table>\n",
       "</div>"
      ],
      "text/plain": [
       "                                 SEL\n",
       "Recording Channel                   \n",
       "CT107     Left     93.17363454672746\n",
       "          Right    93.43334994170716"
      ]
     },
     "execution_count": 50,
     "metadata": {},
     "output_type": "execute_result"
    }
   ],
   "source": [
    "b.pyacoustics_metric(\"SEL\", analysis_settings=ex_settings)"
   ]
  },
  {
   "attachments": {},
   "cell_type": "markdown",
   "metadata": {},
   "source": [
    "But this is just the start of what makes the analysis settings so useful.\n"
   ]
  },
  {
   "attachments": {},
   "cell_type": "markdown",
   "metadata": {},
   "source": [
    "# <h1 style=\"color:#AED6F1 ; font-weight: bold; font-style: italic;\">Processing All the Metrics at Once, Using Predefined Settings</h1>"
   ]
  },
  {
   "attachments": {},
   "cell_type": "markdown",
   "metadata": {},
   "source": [
    "Since we can define the settings for all the metrics, and specify which metrics we want to run, we can process all of our desired metrics at once. `process_all_metrics()` let's us do this with just a single line of code."
   ]
  },
  {
   "cell_type": "code",
   "execution_count": 54,
   "metadata": {},
   "outputs": [
    {
     "name": "stdout",
     "output_type": "stream",
     "text": [
      "Processing CT107\n",
      " - Calculating Python Acoustics metrics: LAeq\n",
      " - Calculating Python Acoustics metrics: LZeq\n",
      " - Calculating Python Acoustics metrics: LCeq\n",
      " - Calculating Python Acoustics metrics: SEL\n",
      " - Calculating scikit-maad all_temporal_alpha_indices\n",
      " - Calculating scikit-maad all_spectral_alpha_indices\n"
     ]
    },
    {
     "data": {
      "text/html": [
       "<div>\n",
       "<style scoped>\n",
       "    .dataframe tbody tr th:only-of-type {\n",
       "        vertical-align: middle;\n",
       "    }\n",
       "\n",
       "    .dataframe tbody tr th {\n",
       "        vertical-align: top;\n",
       "    }\n",
       "\n",
       "    .dataframe thead th {\n",
       "        text-align: right;\n",
       "    }\n",
       "</style>\n",
       "<table border=\"1\" class=\"dataframe\">\n",
       "  <thead>\n",
       "    <tr style=\"text-align: right;\">\n",
       "      <th></th>\n",
       "      <th></th>\n",
       "      <th>LAeq</th>\n",
       "      <th>LAeq_5</th>\n",
       "      <th>LAeq_10</th>\n",
       "      <th>LAeq_50</th>\n",
       "      <th>LAeq_90</th>\n",
       "      <th>LAeq_95</th>\n",
       "      <th>LAeq_min</th>\n",
       "      <th>LAeq_max</th>\n",
       "      <th>LAeq_kurt</th>\n",
       "      <th>LAeq_skew</th>\n",
       "      <th>...</th>\n",
       "      <th>TFSD</th>\n",
       "      <th>H_Havrda</th>\n",
       "      <th>H_Renyi</th>\n",
       "      <th>H_pairedShannon</th>\n",
       "      <th>H_gamma</th>\n",
       "      <th>H_GiniSimpson</th>\n",
       "      <th>RAOQ</th>\n",
       "      <th>AGI</th>\n",
       "      <th>ROItotal</th>\n",
       "      <th>ROIcover</th>\n",
       "    </tr>\n",
       "    <tr>\n",
       "      <th>Recording</th>\n",
       "      <th>Channel</th>\n",
       "      <th></th>\n",
       "      <th></th>\n",
       "      <th></th>\n",
       "      <th></th>\n",
       "      <th></th>\n",
       "      <th></th>\n",
       "      <th></th>\n",
       "      <th></th>\n",
       "      <th></th>\n",
       "      <th></th>\n",
       "      <th></th>\n",
       "      <th></th>\n",
       "      <th></th>\n",
       "      <th></th>\n",
       "      <th></th>\n",
       "      <th></th>\n",
       "      <th></th>\n",
       "      <th></th>\n",
       "      <th></th>\n",
       "      <th></th>\n",
       "      <th></th>\n",
       "    </tr>\n",
       "  </thead>\n",
       "  <tbody>\n",
       "    <tr>\n",
       "      <th rowspan=\"2\" valign=\"top\">CT107</th>\n",
       "      <th>Left</th>\n",
       "      <td>68.04434</td>\n",
       "      <td>72.248420</td>\n",
       "      <td>71.395037</td>\n",
       "      <td>66.19904</td>\n",
       "      <td>62.448782</td>\n",
       "      <td>61.533067</td>\n",
       "      <td>60.039913</td>\n",
       "      <td>76.177939</td>\n",
       "      <td>-0.535311</td>\n",
       "      <td>0.386803</td>\n",
       "      <td>...</td>\n",
       "      <td>0.189200</td>\n",
       "      <td>0.306238</td>\n",
       "      <td>1.254894</td>\n",
       "      <td>3.044224</td>\n",
       "      <td>1338.067243</td>\n",
       "      <td>0.770212</td>\n",
       "      <td>0.014416</td>\n",
       "      <td>1.821037</td>\n",
       "      <td>31</td>\n",
       "      <td>3.092858</td>\n",
       "    </tr>\n",
       "    <tr>\n",
       "      <th>Right</th>\n",
       "      <td>66.95764</td>\n",
       "      <td>71.154329</td>\n",
       "      <td>69.520778</td>\n",
       "      <td>65.56753</td>\n",
       "      <td>62.737097</td>\n",
       "      <td>62.105325</td>\n",
       "      <td>59.427035</td>\n",
       "      <td>73.699931</td>\n",
       "      <td>-0.229152</td>\n",
       "      <td>0.490734</td>\n",
       "      <td>...</td>\n",
       "      <td>0.164626</td>\n",
       "      <td>0.301908</td>\n",
       "      <td>1.180761</td>\n",
       "      <td>2.863630</td>\n",
       "      <td>875.440276</td>\n",
       "      <td>0.747898</td>\n",
       "      <td>0.008257</td>\n",
       "      <td>1.578739</td>\n",
       "      <td>45</td>\n",
       "      <td>2.396588</td>\n",
       "    </tr>\n",
       "  </tbody>\n",
       "</table>\n",
       "<p>2 rows × 91 columns</p>\n",
       "</div>"
      ],
      "text/plain": [
       "                       LAeq     LAeq_5    LAeq_10   LAeq_50    LAeq_90  \\\n",
       "Recording Channel                                                        \n",
       "CT107     Left     68.04434  72.248420  71.395037  66.19904  62.448782   \n",
       "          Right    66.95764  71.154329  69.520778  65.56753  62.737097   \n",
       "\n",
       "                     LAeq_95   LAeq_min   LAeq_max  LAeq_kurt  LAeq_skew  ...  \\\n",
       "Recording Channel                                                         ...   \n",
       "CT107     Left     61.533067  60.039913  76.177939  -0.535311   0.386803  ...   \n",
       "          Right    62.105325  59.427035  73.699931  -0.229152   0.490734  ...   \n",
       "\n",
       "                       TFSD  H_Havrda   H_Renyi  H_pairedShannon      H_gamma  \\\n",
       "Recording Channel                                                               \n",
       "CT107     Left     0.189200  0.306238  1.254894         3.044224  1338.067243   \n",
       "          Right    0.164626  0.301908  1.180761         2.863630   875.440276   \n",
       "\n",
       "                   H_GiniSimpson      RAOQ       AGI  ROItotal  ROIcover  \n",
       "Recording Channel                                                         \n",
       "CT107     Left          0.770212  0.014416  1.821037        31  3.092858  \n",
       "          Right         0.747898  0.008257  1.578739        45  2.396588  \n",
       "\n",
       "[2 rows x 91 columns]"
      ]
     },
     "execution_count": 54,
     "metadata": {},
     "output_type": "execute_result"
    }
   ],
   "source": [
    "b.process_all_metrics(ex_settings, verbose=True)"
   ]
  },
  {
   "attachments": {},
   "cell_type": "markdown",
   "metadata": {},
   "source": [
    "# <h1 style=\"color:#AED6F1 ; font-weight: bold; font-style: italic;\">Batch Processing a Bunch of Recordings</h1>"
   ]
  },
  {
   "attachments": {},
   "cell_type": "markdown",
   "metadata": {},
   "source": [
    "The final step is to run all of these metrics on a whole bunch of wav recordings all at once. In the Soundscape Indices (SSID) project for which this package was developed, we use this data to train machine learning models, so it's necessary to process a large number of recordings. Using the predefined analysis settings, we can loop through an entire folder, add it all to the results dataframe and come away with a single spreadsheet of all of the metrics needed.\n",
    "\n",
    "To start, we'll demonstrate this using a normal `for` loop. The `for` loop will process one recording at a time and add it to our results dataframe. For the demonstration, we'll reload all of the variables needed and use the default analysis settings to run all of the metrics and time it."
   ]
  },
  {
   "cell_type": "code",
   "execution_count": 2,
   "metadata": {},
   "outputs": [
    {
     "name": "stderr",
     "output_type": "stream",
     "text": [
      "Processing CT110: 100%|██████████| 8/8 [00:21<00:00,  2.71s/it]\n"
     ]
    }
   ],
   "source": [
    "import time # Just for timing\n",
    "from tqdm import tqdm\n",
    "\n",
    "wav_folder = Path().cwd().joinpath(\"data\")\n",
    "levels = wav_folder.joinpath(\"Levels.json\")\n",
    "with open(levels) as f:\n",
    "    levels = json.load(f)\n",
    "df = prep_multiindex_df(levels, incl_metric=False)\n",
    "\n",
    "analysis_settings = AnalysisSettings.default()\n",
    "analysis_settings[\"MoSQITo\"][\"sharpness_din_from_loudness\"][\"run\"] = False\n",
    "analysis_settings[\"MoSQITo\"][\"sharpness_din_perseg\"][\"run\"] = False\n",
    "analysis_settings[\"MoSQITo\"][\"roughness_dw\"][\"run\"] = False\n",
    "\n",
    "begin = time.perf_counter() # Start timer\n",
    "\n",
    "# Loop through each wav file in the folder\n",
    "for wav in (pbar := tqdm(list(wav_folder.glob(\"*.wav\")))):\n",
    "    recording = wav.stem\n",
    "    pbar.set_description(f\"Processing {recording}\")\n",
    "    decibel = tuple(levels[recording].values())\n",
    "    b = Binaural.from_wav(wav, calibrate_to=decibel)\n",
    "    df = add_results(df, b.process_all_metrics(analysis_settings, verbose=False, parallel=True)) # Process all metrics and add to results df\n",
    "\n",
    "end = time.perf_counter() # Stop timer"
   ]
  },
  {
   "cell_type": "code",
   "execution_count": 56,
   "metadata": {},
   "outputs": [
    {
     "name": "stdout",
     "output_type": "stream",
     "text": [
      "Run on This Desktop\n",
      "Time taken (using for loop):  21.68 seconds ( 0.36 minutes)\n"
     ]
    },
    {
     "data": {
      "text/html": [
       "<div>\n",
       "<style scoped>\n",
       "    .dataframe tbody tr th:only-of-type {\n",
       "        vertical-align: middle;\n",
       "    }\n",
       "\n",
       "    .dataframe tbody tr th {\n",
       "        vertical-align: top;\n",
       "    }\n",
       "\n",
       "    .dataframe thead th {\n",
       "        text-align: right;\n",
       "    }\n",
       "</style>\n",
       "<table border=\"1\" class=\"dataframe\">\n",
       "  <thead>\n",
       "    <tr style=\"text-align: right;\">\n",
       "      <th></th>\n",
       "      <th></th>\n",
       "      <th>Leq</th>\n",
       "    </tr>\n",
       "    <tr>\n",
       "      <th>Recording</th>\n",
       "      <th>Channel</th>\n",
       "      <th></th>\n",
       "    </tr>\n",
       "  </thead>\n",
       "  <tbody>\n",
       "    <tr>\n",
       "      <th rowspan=\"2\" valign=\"top\">CT101</th>\n",
       "      <th>Left</th>\n",
       "      <td>79.00</td>\n",
       "    </tr>\n",
       "    <tr>\n",
       "      <th>Right</th>\n",
       "      <td>79.72</td>\n",
       "    </tr>\n",
       "    <tr>\n",
       "      <th rowspan=\"2\" valign=\"top\">CT102</th>\n",
       "      <th>Left</th>\n",
       "      <td>79.35</td>\n",
       "    </tr>\n",
       "    <tr>\n",
       "      <th>Right</th>\n",
       "      <td>79.88</td>\n",
       "    </tr>\n",
       "    <tr>\n",
       "      <th>CT103</th>\n",
       "      <th>Left</th>\n",
       "      <td>76.25</td>\n",
       "    </tr>\n",
       "    <tr>\n",
       "      <th>...</th>\n",
       "      <th>...</th>\n",
       "      <td>...</td>\n",
       "    </tr>\n",
       "    <tr>\n",
       "      <th>SM518</th>\n",
       "      <th>Right</th>\n",
       "      <td>67.91</td>\n",
       "    </tr>\n",
       "    <tr>\n",
       "      <th rowspan=\"2\" valign=\"top\">SM519</th>\n",
       "      <th>Left</th>\n",
       "      <td>64.91</td>\n",
       "    </tr>\n",
       "    <tr>\n",
       "      <th>Right</th>\n",
       "      <td>64.28</td>\n",
       "    </tr>\n",
       "    <tr>\n",
       "      <th rowspan=\"2\" valign=\"top\">SM520</th>\n",
       "      <th>Left</th>\n",
       "      <td>68.53</td>\n",
       "    </tr>\n",
       "    <tr>\n",
       "      <th>Right</th>\n",
       "      <td>69.30</td>\n",
       "    </tr>\n",
       "  </tbody>\n",
       "</table>\n",
       "<p>2904 rows × 1 columns</p>\n",
       "</div>"
      ],
      "text/plain": [
       "                     Leq\n",
       "Recording Channel       \n",
       "CT101     Left     79.00\n",
       "          Right    79.72\n",
       "CT102     Left     79.35\n",
       "          Right    79.88\n",
       "CT103     Left     76.25\n",
       "...                  ...\n",
       "SM518     Right    67.91\n",
       "SM519     Left     64.91\n",
       "          Right    64.28\n",
       "SM520     Left     68.53\n",
       "          Right    69.30\n",
       "\n",
       "[2904 rows x 1 columns]"
      ]
     },
     "execution_count": 56,
     "metadata": {},
     "output_type": "execute_result"
    }
   ],
   "source": [
    "print(\"Run on This Desktop\")\n",
    "print(f\"Time taken (using for loop): {end-begin: .2f} seconds ({(end-begin)/60: .2f} minutes)\")\n",
    "df"
   ]
  },
  {
   "attachments": {},
   "cell_type": "markdown",
   "metadata": {},
   "source": [
    "As we can see, this took quite a long time. The problem is that the MoSQITo metrics can take up to a minute for each channel of each recording and the for loop only processes one recording at a time. Since most modern computers are multicore, this leaves a ton of processing power unused. On my machine, I have 16 cores and at any one time during this process, only two of those cores are running at 100%.\n",
    "\n",
    "In order to take full advantage of the other cores, we need to tell the computer to process multiple recordings at once and add them all together later. This is called parallel processing and could theoretically speed up the analysis by 8x (usually we don't get this full speed up though). The reason two cores are running in parallel above is because we're already running both channels at the same time for the MoSQITo metrics.\n",
    "\n",
    "To do this, we provide a function called `parallel_process()` which takes the path to your wav folder as an argument, then performs our full processing on multiple recordings in parallel and returns the full result dataframe at the end.\n",
    "\n",
    "Note: Don't worry about the status updates looking  a bit jumbled - that's what happens with parallel processing."
   ]
  },
  {
   "attachments": {},
   "cell_type": "markdown",
   "metadata": {},
   "source": [
    "# <h1 style=\"color:#AED6F1 ; font-weight: bold; font-style: italic;\">Parallel Processing</h1>"
   ]
  },
  {
   "cell_type": "code",
   "execution_count": 4,
   "metadata": {},
   "outputs": [
    {
     "data": {
      "application/vnd.jupyter.widget-view+json": {
       "model_id": "51e7df244eb34bc2a37a84012751d8cc",
       "version_major": 2,
       "version_minor": 0
      },
      "text/plain": [
       "Processing files:   0%|          | 0/8 [00:00<?, ?it/s]"
      ]
     },
     "metadata": {},
     "output_type": "display_data"
    }
   ],
   "source": [
    "import time\n",
    "from soundscapy.analysis.parallel_processing import parallel_process\n",
    "\n",
    "# Redefine path etc. just for the example\n",
    "wav_folder = Path().cwd().joinpath(\"data\")\n",
    "levels = wav_folder.joinpath(\"Levels.json\")\n",
    "with open(levels) as f:\n",
    "    levels = json.load(f)\n",
    "df = prep_multiindex_df(levels, incl_metric=False)\n",
    "\n",
    "analysis_settings = AnalysisSettings.default()\n",
    "analysis_settings[\"MoSQITo\"][\"sharpness_din_from_loudness\"][\"run\"] = False\n",
    "analysis_settings[\"MoSQITo\"][\"sharpness_din_perseg\"][\"run\"] = False\n",
    "analysis_settings[\"MoSQITo\"][\"roughness_dw\"][\"run\"] = False\n",
    "\n",
    "start = time.perf_counter() # Start timer\n",
    "\n",
    "df = parallel_process(\n",
    "    wav_folder.glob(\"*.wav\"), df, levels, analysis_settings, verbose=False\n",
    ")\n",
    "\n",
    "stop = time.perf_counter()"
   ]
  },
  {
   "cell_type": "code",
   "execution_count": 55,
   "metadata": {},
   "outputs": [
    {
     "name": "stdout",
     "output_type": "stream",
     "text": [
      "Run on This Desktop\n",
      "Time taken: 17.29 seconds ( 0.29 minutes)\n"
     ]
    },
    {
     "data": {
      "text/html": [
       "<div>\n",
       "<style scoped>\n",
       "    .dataframe tbody tr th:only-of-type {\n",
       "        vertical-align: middle;\n",
       "    }\n",
       "\n",
       "    .dataframe tbody tr th {\n",
       "        vertical-align: top;\n",
       "    }\n",
       "\n",
       "    .dataframe thead th {\n",
       "        text-align: right;\n",
       "    }\n",
       "</style>\n",
       "<table border=\"1\" class=\"dataframe\">\n",
       "  <thead>\n",
       "    <tr style=\"text-align: right;\">\n",
       "      <th></th>\n",
       "      <th></th>\n",
       "      <th>Leq</th>\n",
       "    </tr>\n",
       "    <tr>\n",
       "      <th>Recording</th>\n",
       "      <th>Channel</th>\n",
       "      <th></th>\n",
       "    </tr>\n",
       "  </thead>\n",
       "  <tbody>\n",
       "    <tr>\n",
       "      <th rowspan=\"2\" valign=\"top\">CT101</th>\n",
       "      <th>Left</th>\n",
       "      <td>79.00</td>\n",
       "    </tr>\n",
       "    <tr>\n",
       "      <th>Right</th>\n",
       "      <td>79.72</td>\n",
       "    </tr>\n",
       "    <tr>\n",
       "      <th rowspan=\"2\" valign=\"top\">CT102</th>\n",
       "      <th>Left</th>\n",
       "      <td>79.35</td>\n",
       "    </tr>\n",
       "    <tr>\n",
       "      <th>Right</th>\n",
       "      <td>79.88</td>\n",
       "    </tr>\n",
       "    <tr>\n",
       "      <th>CT103</th>\n",
       "      <th>Left</th>\n",
       "      <td>76.25</td>\n",
       "    </tr>\n",
       "    <tr>\n",
       "      <th>...</th>\n",
       "      <th>...</th>\n",
       "      <td>...</td>\n",
       "    </tr>\n",
       "    <tr>\n",
       "      <th>SM518</th>\n",
       "      <th>Right</th>\n",
       "      <td>67.91</td>\n",
       "    </tr>\n",
       "    <tr>\n",
       "      <th rowspan=\"2\" valign=\"top\">SM519</th>\n",
       "      <th>Left</th>\n",
       "      <td>64.91</td>\n",
       "    </tr>\n",
       "    <tr>\n",
       "      <th>Right</th>\n",
       "      <td>64.28</td>\n",
       "    </tr>\n",
       "    <tr>\n",
       "      <th rowspan=\"2\" valign=\"top\">SM520</th>\n",
       "      <th>Left</th>\n",
       "      <td>68.53</td>\n",
       "    </tr>\n",
       "    <tr>\n",
       "      <th>Right</th>\n",
       "      <td>69.30</td>\n",
       "    </tr>\n",
       "  </tbody>\n",
       "</table>\n",
       "<p>2904 rows × 1 columns</p>\n",
       "</div>"
      ],
      "text/plain": [
       "                     Leq\n",
       "Recording Channel       \n",
       "CT101     Left     79.00\n",
       "          Right    79.72\n",
       "CT102     Left     79.35\n",
       "          Right    79.88\n",
       "CT103     Left     76.25\n",
       "...                  ...\n",
       "SM518     Right    67.91\n",
       "SM519     Left     64.91\n",
       "          Right    64.28\n",
       "SM520     Left     68.53\n",
       "          Right    69.30\n",
       "\n",
       "[2904 rows x 1 columns]"
      ]
     },
     "execution_count": 55,
     "metadata": {},
     "output_type": "execute_result"
    }
   ],
   "source": [
    "print(\"Run on This Desktop\")\n",
    "print(f\"Time taken: {stop-start:.2f} seconds ({(stop-start)/60: .2f} minutes)\")\n",
    "df"
   ]
  },
  {
   "attachments": {},
   "cell_type": "markdown",
   "metadata": {},
   "source": [
    "That's faster! It should be noted that it appears any of the parallel operations, including the parallel channel processing, run faster (~25%) on Linux than on Windows on the same machine."
   ]
  },
  {
   "attachments": {},
   "cell_type": "markdown",
   "metadata": {},
   "source": [
    "# <h1 style=\"color:#AED6F1 ; font-weight: bold; font-style: italic;\">Save the File as an Excel File</h1>"
   ]
  },
  {
   "cell_type": "code",
   "execution_count": 57,
   "metadata": {},
   "outputs": [],
   "source": [
    "from datetime import datetime\n",
    "df.to_excel(wav_folder.parent.joinpath(\"\", f\"ParallelTest_{datetime.today().strftime('%Y-%m-%d')}.xlsx\"))"
   ]
  }
 ],
 "metadata": {
  "kernelspec": {
   "display_name": "Python 3",
   "language": "python",
   "name": "python3"
  },
  "language_info": {
   "codemirror_mode": {
    "name": "ipython",
    "version": 3
   },
   "file_extension": ".py",
   "mimetype": "text/x-python",
   "name": "python",
   "nbconvert_exporter": "python",
   "pygments_lexer": "ipython3",
   "version": "3.11.3"
  },
  "orig_nbformat": 4
 },
 "nbformat": 4,
 "nbformat_minor": 2
}
