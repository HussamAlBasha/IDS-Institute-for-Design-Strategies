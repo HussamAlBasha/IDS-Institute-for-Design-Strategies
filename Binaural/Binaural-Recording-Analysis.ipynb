{
 "cells": [
  {
   "attachments": {},
   "cell_type": "markdown",
   "metadata": {},
   "source": [
    "# Getting Started\n",
    "\n",
    "The basis of all of our analysis starts with the binaural signal, so we begin by importing the `Binaural` class. We'll also load up and examine our analysis settings."
   ]
  },
  {
   "cell_type": "code",
   "execution_count": 3,
   "metadata": {},
   "outputs": [],
   "source": [
    "# imports\n",
    "from soundscapy import Binaural\n",
    "from soundscapy import AnalysisSettings\n",
    "from soundscapy.analysis.binaural import prep_multiindex_df, add_results, process_all_metrics\n",
    "import json\n",
    "from pathlib import Path"
   ]
  },
  {
   "attachments": {},
   "cell_type": "markdown",
   "metadata": {},
   "source": [
    "Set up where the data is located. In this case, we'll use the sample recordings located under the `test` folder."
   ]
  },
  {
   "cell_type": "code",
   "execution_count": 4,
   "metadata": {},
   "outputs": [],
   "source": [
    "# May need to adjust for your system\n",
    "wav_folder = Path().cwd().joinpath(\"data\")"
   ]
  },
  {
   "attachments": {},
   "cell_type": "markdown",
   "metadata": {},
   "source": [
    "Ensuring that Soundscapy knows exactly how loud your recordings were onsite is crucial to getting correct answers. If you used equipment such as the Head Acoustics SqoBold, and were careful about how the recordings are exported to .wav, then they may already be correctly adjusted (as ours are here). However its best to be safe and calibrate each signal to their real-world dB level. To do this, we load in a .json that contains the per-channel correct dB $L_{eq}$ level."
   ]
  },
  {
   "cell_type": "code",
   "execution_count": 5,
   "metadata": {},
   "outputs": [
    {
     "data": {
      "text/plain": [
       "[('CT101', {'Left': 79.0, 'Right': 79.72}),\n",
       " ('CT102', {'Left': 79.35, 'Right': 79.88}),\n",
       " ('CT103', {'Left': 76.25, 'Right': 76.41}),\n",
       " ('CT104', {'Left': 79.9, 'Right': 79.93}),\n",
       " ('CT107', {'Left': 78.21, 'Right': 78.47})]"
      ]
     },
     "execution_count": 5,
     "metadata": {},
     "output_type": "execute_result"
    }
   ],
   "source": [
    "levels = wav_folder.joinpath(\"Levels.json\")\n",
    "\n",
    "with open(\"data/Levels.json\") as f:\n",
    "    levels= json.load(f)\n",
    "\n",
    "# Look at the first five sets of levels\n",
    "list(levels.items())[:5]\n",
    "#or\n",
    "#list(levels.items())"
   ]
  },
  {
   "attachments": {},
   "cell_type": "markdown",
   "metadata": {},
   "source": [
    "\n",
    "## Prepping the results dataframe\n",
    "The easiest way to organise and add the new data as it is processed is to prepare a dataframe ahead of time. We've provided a small function to convert a dictionary of calibration levels (`level`) into the properly formatted dataframe."
   ]
  },
  {
   "cell_type": "code",
   "execution_count": 6,
   "metadata": {},
   "outputs": [
    {
     "data": {
      "text/html": [
       "<div>\n",
       "<style scoped>\n",
       "    .dataframe tbody tr th:only-of-type {\n",
       "        vertical-align: middle;\n",
       "    }\n",
       "\n",
       "    .dataframe tbody tr th {\n",
       "        vertical-align: top;\n",
       "    }\n",
       "\n",
       "    .dataframe thead th {\n",
       "        text-align: right;\n",
       "    }\n",
       "</style>\n",
       "<table border=\"1\" class=\"dataframe\">\n",
       "  <thead>\n",
       "    <tr style=\"text-align: right;\">\n",
       "      <th></th>\n",
       "      <th></th>\n",
       "      <th>Leq</th>\n",
       "    </tr>\n",
       "    <tr>\n",
       "      <th>Recording</th>\n",
       "      <th>Channel</th>\n",
       "      <th></th>\n",
       "    </tr>\n",
       "  </thead>\n",
       "  <tbody>\n",
       "    <tr>\n",
       "      <th rowspan=\"2\" valign=\"top\">CT101</th>\n",
       "      <th>Left</th>\n",
       "      <td>79.00</td>\n",
       "    </tr>\n",
       "    <tr>\n",
       "      <th>Right</th>\n",
       "      <td>79.72</td>\n",
       "    </tr>\n",
       "    <tr>\n",
       "      <th rowspan=\"2\" valign=\"top\">CT102</th>\n",
       "      <th>Left</th>\n",
       "      <td>79.35</td>\n",
       "    </tr>\n",
       "    <tr>\n",
       "      <th>Right</th>\n",
       "      <td>79.88</td>\n",
       "    </tr>\n",
       "    <tr>\n",
       "      <th>CT103</th>\n",
       "      <th>Left</th>\n",
       "      <td>76.25</td>\n",
       "    </tr>\n",
       "  </tbody>\n",
       "</table>\n",
       "</div>"
      ],
      "text/plain": [
       "                     Leq\n",
       "Recording Channel       \n",
       "CT101     Left     79.00\n",
       "          Right    79.72\n",
       "CT102     Left     79.35\n",
       "          Right    79.88\n",
       "CT103     Left     76.25"
      ]
     },
     "execution_count": 6,
     "metadata": {},
     "output_type": "execute_result"
    }
   ],
   "source": [
    "df = prep_multiindex_df(levels, incl_metric=True)\n",
    "df.head()"
   ]
  },
  {
   "attachments": {},
   "cell_type": "markdown",
   "metadata": {},
   "source": [
    "## Load in a Binaural recording\n",
    "Load in a binaural wav signal. We can use the `plot` function provided by the `acoustics.Signal` super-class."
   ]
  },
  {
   "cell_type": "code",
   "execution_count": 6,
   "metadata": {},
   "outputs": [
    {
     "data": {
      "image/png": "[encoded data removed]",
      "text/plain": [
       "<Figure size 640x480 with 1 Axes>"
      ]
     },
     "metadata": {},
     "output_type": "display_data"
    }
   ],
   "source": [
    "binaural_wav = wav_folder.joinpath(\"CT109.wav\")\n",
    "b = Binaural.from_wav(binaural_wav)\n",
    "b.plot();"
   ]
  },
  {
   "attachments": {},
   "cell_type": "markdown",
   "metadata": {},
   "source": [
    "To ensure that the dB level is correct, and therefore any other metrics are correct, we start by calibrating the signal to precalculated levels."
   ]
  },
  {
   "cell_type": "code",
   "execution_count": 7,
   "metadata": {},
   "outputs": [
    {
     "name": "stdout",
     "output_type": "stream",
     "text": [
      "Calibration levels: (79.32, 79.37)\n"
     ]
    },
    {
     "data": {
      "text/plain": [
       "Signal([[-0.01880362 -0.02602271 -0.03045224 ...  0.15379328  0.14773124\n",
       "   0.14079955]\n",
       " [ 0.06067053  0.05229311  0.04568887 ...  0.388947    0.38627496\n",
       "   0.38574696]])"
      ]
     },
     "execution_count": 7,
     "metadata": {},
     "output_type": "execute_result"
    }
   ],
   "source": [
    "decibel = (levels[b.recording][\"Left\"], levels[b.recording][\"Right\"])\n",
    "print(f\"Calibration levels: {decibel}\")\n",
    "b.calibrate_to(decibel, inplace=True)"
   ]
  },
  {
   "attachments": {},
   "cell_type": "markdown",
   "metadata": {},
   "source": [
    "Now, check it by comparing it to what we already knew were the correct levels:"
   ]
  },
  {
   "cell_type": "code",
   "execution_count": 8,
   "metadata": {},
   "outputs": [
    {
     "name": "stdout",
     "output_type": "stream",
     "text": [
      "Predefined levels: {'Left': 79.32, 'Right': 79.37}\n",
      "Calculated Levels: {'Left': {'Leq': 79.3242384086412}, 'Right': {'Leq': 79.37405170192133}}\n"
     ]
    }
   ],
   "source": [
    "print(f\"Predefined levels: {levels[b.recording]}\")\n",
    "print(f\"Calculated Levels: {b.pyacoustics_metric('Leq', statistics=['avg'], as_df=False)}\")"
   ]
  },
  {
   "attachments": {},
   "cell_type": "markdown",
   "metadata": {},
   "source": [
    "\n",
    "# Calculating Acoustic Metrics\n",
    "\n",
    "This brings us to how to calculate any of the many metrics available. Let's start simple with $L_{Aeq}$.\n",
    "\n",
    "###  `1) Python Acoustics`\n",
    "\n",
    "Since the $L_{Aeq}$ calc is provided by the Python Acoustics library, we'll be calling `pyacoustic_metric`. Then, we need to tell it what particular metric we want, what stats to calculate as well, what to label it, and what format to return the results in."
   ]
  },
  {
   "cell_type": "code",
   "execution_count": 9,
   "metadata": {},
   "outputs": [
    {
     "data": {
      "text/plain": [
       "{'Left': {'LAeq': 69.62980216939728,\n",
       "  'LAeq_10': 72.53594851528133,\n",
       "  'LAeq_50': 68.08841267689249,\n",
       "  'LAeq_90': 65.39585514607839,\n",
       "  'LAeq_95': 64.84120054285495,\n",
       "  'LAeq_max': 77.36959269509246},\n",
       " 'Right': {'LAeq': 68.14073677615188,\n",
       "  'LAeq_10': 70.78859019475205,\n",
       "  'LAeq_50': 67.17655974434444,\n",
       "  'LAeq_90': 64.90071903960418,\n",
       "  'LAeq_95': 64.3945997426436,\n",
       "  'LAeq_max': 74.25197080719757}}"
      ]
     },
     "execution_count": 9,
     "metadata": {},
     "output_type": "execute_result"
    }
   ],
   "source": [
    "metric = \"LAeq\"\n",
    "stats = (\"avg\", 10, 50, 90, 95, \"max\")\n",
    "label = \"LAeq\"\n",
    "b.pyacoustics_metric(metric, stats, label, as_df=False)"
   ]
  },
  {
   "attachments": {},
   "cell_type": "markdown",
   "metadata": {},
   "source": [
    "If we want, we can get the results back as a pandas DataFrame instead:"
   ]
  },
  {
   "cell_type": "code",
   "execution_count": 23,
   "metadata": {},
   "outputs": [
    {
     "data": {
      "text/html": [
       "<div>\n",
       "<style scoped>\n",
       "    .dataframe tbody tr th:only-of-type {\n",
       "        vertical-align: middle;\n",
       "    }\n",
       "\n",
       "    .dataframe tbody tr th {\n",
       "        vertical-align: top;\n",
       "    }\n",
       "\n",
       "    .dataframe thead th {\n",
       "        text-align: right;\n",
       "    }\n",
       "</style>\n",
       "<table border=\"1\" class=\"dataframe\">\n",
       "  <thead>\n",
       "    <tr style=\"text-align: right;\">\n",
       "      <th></th>\n",
       "      <th></th>\n",
       "      <th>LAeq</th>\n",
       "      <th>LAeq_10</th>\n",
       "      <th>LAeq_50</th>\n",
       "      <th>LAeq_90</th>\n",
       "      <th>LAeq_95</th>\n",
       "      <th>LAeq_max</th>\n",
       "    </tr>\n",
       "    <tr>\n",
       "      <th>Recording</th>\n",
       "      <th>Channel</th>\n",
       "      <th></th>\n",
       "      <th></th>\n",
       "      <th></th>\n",
       "      <th></th>\n",
       "      <th></th>\n",
       "      <th></th>\n",
       "    </tr>\n",
       "  </thead>\n",
       "  <tbody>\n",
       "    <tr>\n",
       "      <th rowspan=\"2\" valign=\"top\">CT109</th>\n",
       "      <th>Left</th>\n",
       "      <td>69.629802</td>\n",
       "      <td>72.535949</td>\n",
       "      <td>68.088413</td>\n",
       "      <td>65.395855</td>\n",
       "      <td>64.841201</td>\n",
       "      <td>77.369593</td>\n",
       "    </tr>\n",
       "    <tr>\n",
       "      <th>Right</th>\n",
       "      <td>68.140737</td>\n",
       "      <td>70.788590</td>\n",
       "      <td>67.176560</td>\n",
       "      <td>64.900719</td>\n",
       "      <td>64.394600</td>\n",
       "      <td>74.251971</td>\n",
       "    </tr>\n",
       "  </tbody>\n",
       "</table>\n",
       "</div>"
      ],
      "text/plain": [
       "                        LAeq    LAeq_10    LAeq_50    LAeq_90    LAeq_95  \\\n",
       "Recording Channel                                                          \n",
       "CT109     Left     69.629802  72.535949  68.088413  65.395855  64.841201   \n",
       "          Right    68.140737  70.788590  67.176560  64.900719  64.394600   \n",
       "\n",
       "                    LAeq_max  \n",
       "Recording Channel             \n",
       "CT109     Left     77.369593  \n",
       "          Right    74.251971  "
      ]
     },
     "execution_count": 23,
     "metadata": {},
     "output_type": "execute_result"
    }
   ],
   "source": [
    "b.pyacoustics_metric(metric, stats, label, as_df=True)"
   ]
  },
  {
   "attachments": {},
   "cell_type": "markdown",
   "metadata": {},
   "source": [
    "And we can easily do the same for the C-weighting level, Z-weighting level & SEL:"
   ]
  },
  {
   "cell_type": "code",
   "execution_count": 21,
   "metadata": {},
   "outputs": [
    {
     "data": {
      "text/html": [
       "<div>\n",
       "<style scoped>\n",
       "    .dataframe tbody tr th:only-of-type {\n",
       "        vertical-align: middle;\n",
       "    }\n",
       "\n",
       "    .dataframe tbody tr th {\n",
       "        vertical-align: top;\n",
       "    }\n",
       "\n",
       "    .dataframe thead th {\n",
       "        text-align: right;\n",
       "    }\n",
       "</style>\n",
       "<table border=\"1\" class=\"dataframe\">\n",
       "  <thead>\n",
       "    <tr style=\"text-align: right;\">\n",
       "      <th></th>\n",
       "      <th></th>\n",
       "      <th>LCeq</th>\n",
       "      <th>LCeq_10</th>\n",
       "      <th>LCeq_50</th>\n",
       "      <th>LCeq_90</th>\n",
       "      <th>LCeq_95</th>\n",
       "      <th>LCeq_max</th>\n",
       "    </tr>\n",
       "    <tr>\n",
       "      <th>Recording</th>\n",
       "      <th>Channel</th>\n",
       "      <th></th>\n",
       "      <th></th>\n",
       "      <th></th>\n",
       "      <th></th>\n",
       "      <th></th>\n",
       "      <th></th>\n",
       "    </tr>\n",
       "  </thead>\n",
       "  <tbody>\n",
       "    <tr>\n",
       "      <th rowspan=\"2\" valign=\"top\">CT109</th>\n",
       "      <th>Left</th>\n",
       "      <td>76.587685</td>\n",
       "      <td>79.185724</td>\n",
       "      <td>75.735159</td>\n",
       "      <td>73.091477</td>\n",
       "      <td>72.774754</td>\n",
       "      <td>81.623024</td>\n",
       "    </tr>\n",
       "    <tr>\n",
       "      <th>Right</th>\n",
       "      <td>76.188390</td>\n",
       "      <td>78.516271</td>\n",
       "      <td>75.701466</td>\n",
       "      <td>73.030778</td>\n",
       "      <td>72.530938</td>\n",
       "      <td>80.785447</td>\n",
       "    </tr>\n",
       "  </tbody>\n",
       "</table>\n",
       "</div>"
      ],
      "text/plain": [
       "                        LCeq    LCeq_10    LCeq_50    LCeq_90    LCeq_95  \\\n",
       "Recording Channel                                                          \n",
       "CT109     Left     76.587685  79.185724  75.735159  73.091477  72.774754   \n",
       "          Right    76.188390  78.516271  75.701466  73.030778  72.530938   \n",
       "\n",
       "                    LCeq_max  \n",
       "Recording Channel             \n",
       "CT109     Left     81.623024  \n",
       "          Right    80.785447  "
      ]
     },
     "execution_count": 21,
     "metadata": {},
     "output_type": "execute_result"
    }
   ],
   "source": [
    "b.pyacoustics_metric(\"LCeq\", stats, as_df=True)"
   ]
  },
  {
   "cell_type": "code",
   "execution_count": 26,
   "metadata": {},
   "outputs": [
    {
     "data": {
      "text/html": [
       "<div>\n",
       "<style scoped>\n",
       "    .dataframe tbody tr th:only-of-type {\n",
       "        vertical-align: middle;\n",
       "    }\n",
       "\n",
       "    .dataframe tbody tr th {\n",
       "        vertical-align: top;\n",
       "    }\n",
       "\n",
       "    .dataframe thead th {\n",
       "        text-align: right;\n",
       "    }\n",
       "</style>\n",
       "<table border=\"1\" class=\"dataframe\">\n",
       "  <thead>\n",
       "    <tr style=\"text-align: right;\">\n",
       "      <th></th>\n",
       "      <th></th>\n",
       "      <th>LZeq</th>\n",
       "      <th>LZeq_10</th>\n",
       "      <th>LZeq_50</th>\n",
       "      <th>LZeq_90</th>\n",
       "      <th>LZeq_95</th>\n",
       "      <th>LZeq_max</th>\n",
       "    </tr>\n",
       "    <tr>\n",
       "      <th>Recording</th>\n",
       "      <th>Channel</th>\n",
       "      <th></th>\n",
       "      <th></th>\n",
       "      <th></th>\n",
       "      <th></th>\n",
       "      <th></th>\n",
       "      <th></th>\n",
       "    </tr>\n",
       "  </thead>\n",
       "  <tbody>\n",
       "    <tr>\n",
       "      <th rowspan=\"2\" valign=\"top\">CT109</th>\n",
       "      <th>Left</th>\n",
       "      <td>79.324238</td>\n",
       "      <td>81.353490</td>\n",
       "      <td>78.172377</td>\n",
       "      <td>75.419130</td>\n",
       "      <td>74.772194</td>\n",
       "      <td>87.503510</td>\n",
       "    </tr>\n",
       "    <tr>\n",
       "      <th>Right</th>\n",
       "      <td>79.374052</td>\n",
       "      <td>81.904793</td>\n",
       "      <td>78.125463</td>\n",
       "      <td>75.412322</td>\n",
       "      <td>74.806446</td>\n",
       "      <td>87.849619</td>\n",
       "    </tr>\n",
       "  </tbody>\n",
       "</table>\n",
       "</div>"
      ],
      "text/plain": [
       "                        LZeq    LZeq_10    LZeq_50    LZeq_90    LZeq_95  \\\n",
       "Recording Channel                                                          \n",
       "CT109     Left     79.324238  81.353490  78.172377  75.419130  74.772194   \n",
       "          Right    79.374052  81.904793  78.125463  75.412322  74.806446   \n",
       "\n",
       "                    LZeq_max  \n",
       "Recording Channel             \n",
       "CT109     Left     87.503510  \n",
       "          Right    87.849619  "
      ]
     },
     "execution_count": 26,
     "metadata": {},
     "output_type": "execute_result"
    }
   ],
   "source": [
    "b.pyacoustics_metric(\"LZeq\", stats, as_df=True)"
   ]
  },
  {
   "cell_type": "code",
   "execution_count": 29,
   "metadata": {},
   "outputs": [
    {
     "data": {
      "text/html": [
       "<div>\n",
       "<style scoped>\n",
       "    .dataframe tbody tr th:only-of-type {\n",
       "        vertical-align: middle;\n",
       "    }\n",
       "\n",
       "    .dataframe tbody tr th {\n",
       "        vertical-align: top;\n",
       "    }\n",
       "\n",
       "    .dataframe thead th {\n",
       "        text-align: right;\n",
       "    }\n",
       "</style>\n",
       "<table border=\"1\" class=\"dataframe\">\n",
       "  <thead>\n",
       "    <tr style=\"text-align: right;\">\n",
       "      <th></th>\n",
       "      <th></th>\n",
       "      <th>SEL</th>\n",
       "    </tr>\n",
       "    <tr>\n",
       "      <th>Recording</th>\n",
       "      <th>Channel</th>\n",
       "      <th></th>\n",
       "    </tr>\n",
       "  </thead>\n",
       "  <tbody>\n",
       "    <tr>\n",
       "      <th rowspan=\"2\" valign=\"top\">CT109</th>\n",
       "      <th>Left</th>\n",
       "      <td>94.31156932047669</td>\n",
       "    </tr>\n",
       "    <tr>\n",
       "      <th>Right</th>\n",
       "      <td>94.36138327962352</td>\n",
       "    </tr>\n",
       "  </tbody>\n",
       "</table>\n",
       "</div>"
      ],
      "text/plain": [
       "                                 SEL\n",
       "Recording Channel                   \n",
       "CT109     Left     94.31156932047669\n",
       "          Right    94.36138327962352"
      ]
     },
     "execution_count": 29,
     "metadata": {},
     "output_type": "execute_result"
    }
   ],
   "source": [
    "b.pyacoustics_metric(\"SEL\", stats, as_df=True)"
   ]
  },
  {
   "attachments": {},
   "cell_type": "markdown",
   "metadata": {},
   "source": [
    "By default, the metrics will be calculated for both channels. But you may want only a single channel. This can be set with the `channel` option."
   ]
  },
  {
   "cell_type": "code",
   "execution_count": null,
   "metadata": {},
   "outputs": [],
   "source": [
    "b.pyacoustics_metric(\"LZeq\", channel=\"Left\")"
   ]
  },
  {
   "attachments": {},
   "cell_type": "markdown",
   "metadata": {},
   "source": [
    "\n",
    "###  `2) MoSQITo`\n",
    "\n",
    "MoSQITo is very exciting as it is one of the first completely free and open-source libraries for calculating psychoacoustic features. Let's try out calculating the psychoacoustic loudness.\n",
    "\n",
    "We start by defining many of the same options, but with two new ones. The first is our `func_args` to pass to `MoSQITo`. Since our test recording was collected in a public park, we need to select the correct field type: free or diffuse, and pass that to MoSQITo.\n",
    "\n",
    "The second new argument is `parallel`. This just tells Soundscapy whether to try to calculate the Left and Right channels simultaneously to speed up processing."
   ]
  },
  {
   "cell_type": "code",
   "execution_count": 10,
   "metadata": {},
   "outputs": [
    {
     "name": "stdout",
     "output_type": "stream",
     "text": [
      " - Calculating MoSQITo metric: loudness_zwtv\n"
     ]
    },
    {
     "data": {
      "text/html": [
       "<div>\n",
       "<style scoped>\n",
       "    .dataframe tbody tr th:only-of-type {\n",
       "        vertical-align: middle;\n",
       "    }\n",
       "\n",
       "    .dataframe tbody tr th {\n",
       "        vertical-align: top;\n",
       "    }\n",
       "\n",
       "    .dataframe thead th {\n",
       "        text-align: right;\n",
       "    }\n",
       "</style>\n",
       "<table border=\"1\" class=\"dataframe\">\n",
       "  <thead>\n",
       "    <tr style=\"text-align: right;\">\n",
       "      <th></th>\n",
       "      <th></th>\n",
       "      <th>N_5</th>\n",
       "      <th>N_50</th>\n",
       "      <th>N_avg</th>\n",
       "      <th>N_max</th>\n",
       "    </tr>\n",
       "    <tr>\n",
       "      <th>Recording</th>\n",
       "      <th>Channel</th>\n",
       "      <th></th>\n",
       "      <th></th>\n",
       "      <th></th>\n",
       "      <th></th>\n",
       "    </tr>\n",
       "  </thead>\n",
       "  <tbody>\n",
       "    <tr>\n",
       "      <th rowspan=\"2\" valign=\"top\">CT109</th>\n",
       "      <th>Left</th>\n",
       "      <td>30.004616</td>\n",
       "      <td>22.080164</td>\n",
       "      <td>23.019382</td>\n",
       "      <td>38.002373</td>\n",
       "    </tr>\n",
       "    <tr>\n",
       "      <th>Right</th>\n",
       "      <td>26.587467</td>\n",
       "      <td>21.040280</td>\n",
       "      <td>21.592433</td>\n",
       "      <td>29.695260</td>\n",
       "    </tr>\n",
       "  </tbody>\n",
       "</table>\n",
       "</div>"
      ],
      "text/plain": [
       "                         N_5       N_50      N_avg      N_max\n",
       "Recording Channel                                            \n",
       "CT109     Left     30.004616  22.080164  23.019382  38.002373\n",
       "          Right    26.587467  21.040280  21.592433  29.695260"
      ]
     },
     "execution_count": 10,
     "metadata": {},
     "output_type": "execute_result"
    }
   ],
   "source": [
    "metric = \"loudness_zwtv\"\n",
    "stats = (5, 50, 'avg', 'max')\n",
    "func_args = {\n",
    "    'field_type': 'free'\n",
    "}\n",
    "\n",
    "b.mosqito_metric(metric, statistics=stats, as_df=True, parallel=True, verbose=True, func_args=func_args)"
   ]
  },
  {
   "attachments": {},
   "cell_type": "markdown",
   "metadata": {},
   "source": [
    "`sharpness_din_from_loudness` is a bit of a special case to keep in mind. It can drastically speed up the processing time since it calculates the Sharpness values from pre-calculated Loudness results. If you are planning to do both analyses, I highly suggest using it. Soundscapy will handle it behind the scenes to make sure it doesn't accidentally calculate the Loudness values twice if you've asked for both of them. Let's try it out."
   ]
  },
  {
   "cell_type": "code",
   "execution_count": 18,
   "metadata": {},
   "outputs": [
    {
     "name": "stdout",
     "output_type": "stream",
     "text": [
      " - Calculating MoSQITo metrics: `sharpness_din` from `loudness_zwtv`\n"
     ]
    }
   ],
   "source": [
    "b.mosqito_metric(\"sharpness_din_from_loudness\", stats, as_df=True, parallel=True, verbose=True, func_args=func_args)"
   ]
  },
  {
   "attachments": {},
   "cell_type": "markdown",
   "metadata": {},
   "source": [
    "\n",
    "###  `3) scikit-maad`\n"
   ]
  },
  {
   "cell_type": "code",
   "execution_count": 13,
   "metadata": {},
   "outputs": [
    {
     "name": "stdout",
     "output_type": "stream",
     "text": [
      " - Calculating scikit-maad all_spectral_alpha_indices\n"
     ]
    },
    {
     "data": {
      "text/html": [
       "<div>\n",
       "<style scoped>\n",
       "    .dataframe tbody tr th:only-of-type {\n",
       "        vertical-align: middle;\n",
       "    }\n",
       "\n",
       "    .dataframe tbody tr th {\n",
       "        vertical-align: top;\n",
       "    }\n",
       "\n",
       "    .dataframe thead th {\n",
       "        text-align: right;\n",
       "    }\n",
       "</style>\n",
       "<table border=\"1\" class=\"dataframe\">\n",
       "  <thead>\n",
       "    <tr style=\"text-align: right;\">\n",
       "      <th></th>\n",
       "      <th></th>\n",
       "      <th>MEANf</th>\n",
       "      <th>VARf</th>\n",
       "      <th>SKEWf</th>\n",
       "      <th>KURTf</th>\n",
       "      <th>NBPEAKS</th>\n",
       "      <th>LEQf</th>\n",
       "      <th>ENRf</th>\n",
       "      <th>BGNf</th>\n",
       "      <th>SNRf</th>\n",
       "      <th>Hf</th>\n",
       "      <th>...</th>\n",
       "      <th>TFSD</th>\n",
       "      <th>H_Havrda</th>\n",
       "      <th>H_Renyi</th>\n",
       "      <th>H_pairedShannon</th>\n",
       "      <th>H_gamma</th>\n",
       "      <th>H_GiniSimpson</th>\n",
       "      <th>RAOQ</th>\n",
       "      <th>AGI</th>\n",
       "      <th>ROItotal</th>\n",
       "      <th>ROIcover</th>\n",
       "    </tr>\n",
       "    <tr>\n",
       "      <th>Recording</th>\n",
       "      <th>Channel</th>\n",
       "      <th></th>\n",
       "      <th></th>\n",
       "      <th></th>\n",
       "      <th></th>\n",
       "      <th></th>\n",
       "      <th></th>\n",
       "      <th></th>\n",
       "      <th></th>\n",
       "      <th></th>\n",
       "      <th></th>\n",
       "      <th></th>\n",
       "      <th></th>\n",
       "      <th></th>\n",
       "      <th></th>\n",
       "      <th></th>\n",
       "      <th></th>\n",
       "      <th></th>\n",
       "      <th></th>\n",
       "      <th></th>\n",
       "      <th></th>\n",
       "      <th></th>\n",
       "    </tr>\n",
       "  </thead>\n",
       "  <tbody>\n",
       "    <tr>\n",
       "      <th rowspan=\"2\" valign=\"top\">CT109</th>\n",
       "      <th>Left</th>\n",
       "      <td>0.001629</td>\n",
       "      <td>0.000042</td>\n",
       "      <td>8.588911</td>\n",
       "      <td>95.062840</td>\n",
       "      <td>10</td>\n",
       "      <td>76.568509</td>\n",
       "      <td>-16.431491</td>\n",
       "      <td>-19.333055</td>\n",
       "      <td>2.901564</td>\n",
       "      <td>0.383433</td>\n",
       "      <td>...</td>\n",
       "      <td>0.19407</td>\n",
       "      <td>0.316275</td>\n",
       "      <td>1.486264</td>\n",
       "      <td>3.292027</td>\n",
       "      <td>1341.922758</td>\n",
       "      <td>0.820586</td>\n",
       "      <td>0.013846</td>\n",
       "      <td>1.545552</td>\n",
       "      <td>21</td>\n",
       "      <td>1.545712</td>\n",
       "    </tr>\n",
       "    <tr>\n",
       "      <th>Right</th>\n",
       "      <td>0.001481</td>\n",
       "      <td>0.000039</td>\n",
       "      <td>9.446190</td>\n",
       "      <td>111.591921</td>\n",
       "      <td>9</td>\n",
       "      <td>76.275210</td>\n",
       "      <td>-16.724790</td>\n",
       "      <td>-19.333482</td>\n",
       "      <td>2.608692</td>\n",
       "      <td>0.352009</td>\n",
       "      <td>...</td>\n",
       "      <td>0.18078</td>\n",
       "      <td>0.310974</td>\n",
       "      <td>1.350959</td>\n",
       "      <td>3.076537</td>\n",
       "      <td>1161.507510</td>\n",
       "      <td>0.788654</td>\n",
       "      <td>0.014172</td>\n",
       "      <td>1.580759</td>\n",
       "      <td>43</td>\n",
       "      <td>2.021005</td>\n",
       "    </tr>\n",
       "  </tbody>\n",
       "</table>\n",
       "<p>2 rows × 44 columns</p>\n",
       "</div>"
      ],
      "text/plain": [
       "                      MEANf      VARf     SKEWf       KURTf  NBPEAKS  \\\n",
       "Recording Channel                                                      \n",
       "CT109     Left     0.001629  0.000042  8.588911   95.062840       10   \n",
       "          Right    0.001481  0.000039  9.446190  111.591921        9   \n",
       "\n",
       "                        LEQf       ENRf       BGNf      SNRf        Hf  ...  \\\n",
       "Recording Channel                                                       ...   \n",
       "CT109     Left     76.568509 -16.431491 -19.333055  2.901564  0.383433  ...   \n",
       "          Right    76.275210 -16.724790 -19.333482  2.608692  0.352009  ...   \n",
       "\n",
       "                      TFSD  H_Havrda   H_Renyi  H_pairedShannon      H_gamma  \\\n",
       "Recording Channel                                                              \n",
       "CT109     Left     0.19407  0.316275  1.486264         3.292027  1341.922758   \n",
       "          Right    0.18078  0.310974  1.350959         3.076537  1161.507510   \n",
       "\n",
       "                   H_GiniSimpson      RAOQ       AGI  ROItotal  ROIcover  \n",
       "Recording Channel                                                         \n",
       "CT109     Left          0.820586  0.013846  1.545552        21  1.545712  \n",
       "          Right         0.788654  0.014172  1.580759        43  2.021005  \n",
       "\n",
       "[2 rows x 44 columns]"
      ]
     },
     "execution_count": 13,
     "metadata": {},
     "output_type": "execute_result"
    }
   ],
   "source": [
    "b.maad_metric(\"all_spectral_alpha_indices\", verbose=True)"
   ]
  },
  {
   "cell_type": "code",
   "execution_count": 14,
   "metadata": {},
   "outputs": [
    {
     "name": "stdout",
     "output_type": "stream",
     "text": [
      " - Calculating scikit-maad all_temporal_alpha_indices\n"
     ]
    },
    {
     "data": {
      "text/html": [
       "<div>\n",
       "<style scoped>\n",
       "    .dataframe tbody tr th:only-of-type {\n",
       "        vertical-align: middle;\n",
       "    }\n",
       "\n",
       "    .dataframe tbody tr th {\n",
       "        vertical-align: top;\n",
       "    }\n",
       "\n",
       "    .dataframe thead th {\n",
       "        text-align: right;\n",
       "    }\n",
       "</style>\n",
       "<table border=\"1\" class=\"dataframe\">\n",
       "  <thead>\n",
       "    <tr style=\"text-align: right;\">\n",
       "      <th></th>\n",
       "      <th></th>\n",
       "      <th>ZCR</th>\n",
       "      <th>MEANt</th>\n",
       "      <th>VARt</th>\n",
       "      <th>SKEWt</th>\n",
       "      <th>KURTt</th>\n",
       "      <th>LEQt</th>\n",
       "      <th>BGNt</th>\n",
       "      <th>SNRt</th>\n",
       "      <th>MED</th>\n",
       "      <th>Ht</th>\n",
       "      <th>ACTtFraction</th>\n",
       "      <th>ACTtCount</th>\n",
       "      <th>ACTtMean</th>\n",
       "      <th>EVNtFraction</th>\n",
       "      <th>EVNtMean</th>\n",
       "      <th>EVNtCount</th>\n",
       "    </tr>\n",
       "    <tr>\n",
       "      <th>Recording</th>\n",
       "      <th>Channel</th>\n",
       "      <th></th>\n",
       "      <th></th>\n",
       "      <th></th>\n",
       "      <th></th>\n",
       "      <th></th>\n",
       "      <th></th>\n",
       "      <th></th>\n",
       "      <th></th>\n",
       "      <th></th>\n",
       "      <th></th>\n",
       "      <th></th>\n",
       "      <th></th>\n",
       "      <th></th>\n",
       "      <th></th>\n",
       "      <th></th>\n",
       "      <th></th>\n",
       "    </tr>\n",
       "  </thead>\n",
       "  <tbody>\n",
       "    <tr>\n",
       "      <th rowspan=\"2\" valign=\"top\">CT109</th>\n",
       "      <th>Left</th>\n",
       "      <td>856.658068</td>\n",
       "      <td>0.000219</td>\n",
       "      <td>0.034236</td>\n",
       "      <td>0.068320</td>\n",
       "      <td>4.560748</td>\n",
       "      <td>78.345766</td>\n",
       "      <td>-9.716321</td>\n",
       "      <td>1.222237</td>\n",
       "      <td>0.326726</td>\n",
       "      <td>0.965416</td>\n",
       "      <td>0.17659</td>\n",
       "      <td>522</td>\n",
       "      <td>5.063980</td>\n",
       "      <td>0.130244</td>\n",
       "      <td>0.038380</td>\n",
       "      <td>3.394670</td>\n",
       "    </tr>\n",
       "    <tr>\n",
       "      <th>Right</th>\n",
       "      <td>721.710081</td>\n",
       "      <td>0.000092</td>\n",
       "      <td>0.034631</td>\n",
       "      <td>0.041858</td>\n",
       "      <td>4.514463</td>\n",
       "      <td>78.426752</td>\n",
       "      <td>-9.852782</td>\n",
       "      <td>1.093480</td>\n",
       "      <td>0.321633</td>\n",
       "      <td>0.965988</td>\n",
       "      <td>0.16272</td>\n",
       "      <td>481</td>\n",
       "      <td>4.985885</td>\n",
       "      <td>0.107916</td>\n",
       "      <td>0.032406</td>\n",
       "      <td>3.331218</td>\n",
       "    </tr>\n",
       "  </tbody>\n",
       "</table>\n",
       "</div>"
      ],
      "text/plain": [
       "                          ZCR     MEANt      VARt     SKEWt     KURTt  \\\n",
       "Recording Channel                                                       \n",
       "CT109     Left     856.658068  0.000219  0.034236  0.068320  4.560748   \n",
       "          Right    721.710081  0.000092  0.034631  0.041858  4.514463   \n",
       "\n",
       "                        LEQt      BGNt      SNRt       MED        Ht  \\\n",
       "Recording Channel                                                      \n",
       "CT109     Left     78.345766 -9.716321  1.222237  0.326726  0.965416   \n",
       "          Right    78.426752 -9.852782  1.093480  0.321633  0.965988   \n",
       "\n",
       "                   ACTtFraction  ACTtCount  ACTtMean  EVNtFraction  EVNtMean  \\\n",
       "Recording Channel                                                              \n",
       "CT109     Left          0.17659        522  5.063980      0.130244  0.038380   \n",
       "          Right         0.16272        481  4.985885      0.107916  0.032406   \n",
       "\n",
       "                   EVNtCount  \n",
       "Recording Channel             \n",
       "CT109     Left      3.394670  \n",
       "          Right     3.331218  "
      ]
     },
     "execution_count": 14,
     "metadata": {},
     "output_type": "execute_result"
    }
   ],
   "source": [
    "b.maad_metric(\"all_temporal_alpha_indices\", verbose=True)"
   ]
  },
  {
   "attachments": {},
   "cell_type": "markdown",
   "metadata": {},
   "source": [
    "# Defining Analysis Settings\n",
    "\n",
    "Soundscapy provides the ability to predefine your analysis settings. These are defined in a separate `.yaml` file and are managed by Soundscapy using the `AnalysisSettings` class. These settings can then be passed to any of the analysis functions, rather than separately defining your settings as we did above. This will be particularly useful when performing our batch processing on an entire folder of wav recordings later.\n",
    "\n",
    "Soundscapy provides a set of default settings which can be easily loaded in:"
   ]
  },
  {
   "cell_type": "code",
   "execution_count": 11,
   "metadata": {},
   "outputs": [
    {
     "data": {
      "text/plain": [
       "{'PythonAcoustics': {'LAeq': {'run': True,\n",
       "   'main': 'avg',\n",
       "   'statistics': [5, 10, 50, 90, 95, 'min', 'max', 'kurt', 'skew'],\n",
       "   'channel': ['Left', 'Right'],\n",
       "   'label': 'LAeq',\n",
       "   'func_args': {'time': 0.125, 'method': 'average'}},\n",
       "  'LZeq': {'run': True,\n",
       "   'main': 'avg',\n",
       "   'statistics': [5, 10, 50, 90, 95, 'min', 'max', 'kurt', 'skew'],\n",
       "   'channel': ['Left', 'Right'],\n",
       "   'label': 'LZeq',\n",
       "   'func_args': {'time': 0.125, 'method': 'average'}},\n",
       "  'LCeq': {'run': True,\n",
       "   'main': 'avg',\n",
       "   'statistics': [5, 10, 50, 90, 95, 'min', 'max', 'kurt', 'skew'],\n",
       "   'channel': ['Left', 'Right'],\n",
       "   'label': 'LCeq',\n",
       "   'func_args': {'time': 0.125, 'method': 'average'}},\n",
       "  'SEL': {'run': True,\n",
       "   'main': [],\n",
       "   'statistics': [],\n",
       "   'channel': ['Left', 'Right'],\n",
       "   'label': 'SEL'}},\n",
       " 'MoSQITo': {'loudness_zwtv': {'run': False,\n",
       "   'main': 5,\n",
       "   'statistics': [10, 50, 90, 95, 'min', 'max', 'kurt', 'skew', 'avg'],\n",
       "   'channel': ['Left', 'Right'],\n",
       "   'label': 'N',\n",
       "   'parallel': True,\n",
       "   'func_args': {'field_type': 'free'}},\n",
       "  'sharpness_din_from_loudness': {'run': True,\n",
       "   'main': 'avg',\n",
       "   'statistics': [5, 10, 50, 90, 95, 'min', 'max', 'kurt', 'skew'],\n",
       "   'channel': ['Left', 'Right'],\n",
       "   'label': 'S_L',\n",
       "   'parallel': True,\n",
       "   'func_args': {'weighting': 'din', 'skip': 0.5, 'field_type': 'free'}},\n",
       "  'sharpness_din_perseg': {'run': True,\n",
       "   'main': 'avg',\n",
       "   'statistics': [5, 10, 50, 90, 95, 'min', 'max', 'kurt', 'skew'],\n",
       "   'channel': ['Left', 'Right'],\n",
       "   'label': 'S_perseg',\n",
       "   'parallel': False,\n",
       "   'func_args': {'weighting': 'din', 'nperseg': 4096, 'field_type': 'free'}},\n",
       "  'sharpness_din_tv': {'run': False,\n",
       "   'main': 'avg',\n",
       "   'statistics': [5, 10, 50, 90, 95, 'min', 'max', 'kurt', 'skew'],\n",
       "   'channel': ['Left', 'Right'],\n",
       "   'label': 'S_din_tv',\n",
       "   'parallel': True,\n",
       "   'func_args': {'weighting': 'din', 'field_type': 'free', 'skip': 0.5}},\n",
       "  'roughness_dw': {'run': True,\n",
       "   'main': 'avg',\n",
       "   'statistics': [5, 10, 50, 90, 95, 'min', 'max', 'kurt', 'skew'],\n",
       "   'channel': ['Left', 'Right'],\n",
       "   'label': 'R',\n",
       "   'parallel': True}},\n",
       " 'scikit-maad': {'all_temporal_alpha_indices': {'run': True,\n",
       "   'channel': ['Left', 'Right']},\n",
       "  'all_spectral_alpha_indices': {'run': True, 'channel': ['Left', 'Right']}},\n",
       " 'runtime': '2023-06-05 15:43:52'}"
      ]
     },
     "execution_count": 11,
     "metadata": {},
     "output_type": "execute_result"
    }
   ],
   "source": [
    "analysis_settings = AnalysisSettings.default()\n",
    "analysis_settings"
   ]
  },
  {
   "attachments": {},
   "cell_type": "markdown",
   "metadata": {},
   "source": [
    "However, in your own analysis you'll probably want to define your own options and load that in. We'll show how this is done using the ' example_settings.yaml ' file.\n",
    "\n",
    "Let's try loading in the `example_settings.yaml` file and see how `AnalysisSettings` handles it."
   ]
  },
  {
   "cell_type": "code",
   "execution_count": 12,
   "metadata": {},
   "outputs": [
    {
     "data": {
      "text/plain": [
       "{'PythonAcoustics': {'LAeq': {'run': True,\n",
       "   'main': 'avg',\n",
       "   'statistics': [5, 10, 50, 90, 95, 'min', 'max', 'kurt', 'skew'],\n",
       "   'channel': ['Left', 'Right'],\n",
       "   'label': 'LAeq',\n",
       "   'func_args': {'time': 0.125, 'method': 'average'}},\n",
       "  'LZeq': {'run': True,\n",
       "   'main': 'avg',\n",
       "   'statistics': [5, 10, 50, 90, 95, 'min', 'max', 'kurt', 'skew'],\n",
       "   'channel': ['Left', 'Right'],\n",
       "   'label': 'LZeq',\n",
       "   'func_args': {'time': 0.125, 'method': 'average'}},\n",
       "  'LCeq': {'run': True,\n",
       "   'main': 'avg',\n",
       "   'statistics': [5, 10, 50, 90, 95, 'min', 'max', 'kurt', 'skew'],\n",
       "   'channel': ['Left', 'Right'],\n",
       "   'label': 'LCeq',\n",
       "   'func_args': {'time': 0.125, 'method': 'average'}},\n",
       "  'SEL': {'run': True,\n",
       "   'main': [],\n",
       "   'statistics': [],\n",
       "   'channel': ['Left', 'Right'],\n",
       "   'label': 'SEL'}},\n",
       " 'MoSQITo': {'loudness_zwtv': {'run': False,\n",
       "   'main': 5,\n",
       "   'statistics': [10, 50, 90, 95, 'min', 'max', 'kurt', 'skew', 'avg'],\n",
       "   'channel': ['Left', 'Right'],\n",
       "   'label': 'N',\n",
       "   'parallel': True,\n",
       "   'func_args': {'field_type': 'free'}},\n",
       "  'sharpness_din_from_loudness': {'run': False,\n",
       "   'main': 'avg',\n",
       "   'statistics': [5, 10, 50, 90, 95, 'min', 'max', 'kurt', 'skew'],\n",
       "   'channel': ['Left', 'Right'],\n",
       "   'label': 'S',\n",
       "   'parallel': True,\n",
       "   'func_args': {'weighting': 'din', 'skip': 0.5, 'field_type': 'free'}},\n",
       "  'sharpness_din_perseg': {'run': False,\n",
       "   'main': 'avg',\n",
       "   'statistics': [5, 10, 50, 90, 95, 'min', 'max', 'kurt', 'skew'],\n",
       "   'channel': ['Left', 'Right'],\n",
       "   'label': 'S_perseg',\n",
       "   'parallel': False,\n",
       "   'func_args': {'weighting': 'din', 'nperseg': 4096, 'field_type': 'free'}},\n",
       "  'sharpness_din_tv': {'run': False,\n",
       "   'main': 'avg',\n",
       "   'statistics': [5, 10, 50, 90, 95, 'min', 'max', 'kurt', 'skew'],\n",
       "   'channel': ['Left', 'Right'],\n",
       "   'label': 'S_din_tv',\n",
       "   'parallel': True,\n",
       "   'func_args': {'weighting': 'din', 'field_type': 'free', 'skip': 0.5}},\n",
       "  'roughness_dw': {'run': False,\n",
       "   'main': 'avg',\n",
       "   'statistics': [5, 10, 50, 90, 95, 'min', 'max', 'kurt', 'skew'],\n",
       "   'channel': ['Left', 'Right'],\n",
       "   'label': 'R',\n",
       "   'parallel': True}},\n",
       " 'scikit-maad': {'all_temporal_alpha_indices': {'run': True,\n",
       "   'channel': ['Left', 'Right']},\n",
       "  'all_spectral_alpha_indices': {'run': False, 'channel': ['Left', 'Right']}},\n",
       " 'runtime': '2023-06-05 15:44:36'}"
      ]
     },
     "execution_count": 12,
     "metadata": {},
     "output_type": "execute_result"
    }
   ],
   "source": [
    "ex_settings = AnalysisSettings.from_yaml(Path(\"example_settings.yaml\"))\n",
    "ex_settings"
   ]
  },
  {
   "attachments": {},
   "cell_type": "markdown",
   "metadata": {},
   "source": [
    "You can easily reload the settings `.yaml` after changing it:"
   ]
  },
  {
   "cell_type": "code",
   "execution_count": 13,
   "metadata": {},
   "outputs": [],
   "source": [
    "ex_settings = ex_settings.reload()"
   ]
  }
 ],
 "metadata": {
  "kernelspec": {
   "display_name": "Python 3",
   "language": "python",
   "name": "python3"
  },
  "language_info": {
   "codemirror_mode": {
    "name": "ipython",
    "version": 3
   },
   "file_extension": ".py",
   "mimetype": "text/x-python",
   "name": "python",
   "nbconvert_exporter": "python",
   "pygments_lexer": "ipython3",
   "version": "3.11.3"
  },
  "orig_nbformat": 4
 },
 "nbformat": 4,
 "nbformat_minor": 2
}
